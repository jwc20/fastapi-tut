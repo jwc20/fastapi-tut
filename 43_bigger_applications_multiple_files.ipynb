{
 "cells": [
  {
   "cell_type": "markdown",
   "id": "5dc05880",
   "metadata": {},
   "source": [
    "# Bigger Applications - Multiple Files"
   ]
  },
  {
   "cell_type": "markdown",
   "id": "e1cae1db",
   "metadata": {},
   "source": [
    "### example - fastapi \n",
    "\n",
    "\n",
    "```bash\n",
    ".\n",
    "├── app                  # \"app\" is a Python package\n",
    "│   ├── __init__.py      # this file makes \"app\" a \"Python package\"\n",
    "│   ├── main.py          # \"main\" module, e.g. import app.main\n",
    "│   ├── dependencies.py  # \"dependencies\" module, e.g. import app.dependencies\n",
    "│   └── routers          # \"routers\" is a \"Python subpackage\"\n",
    "│   │   ├── __init__.py  # makes \"routers\" a \"Python subpackage\"\n",
    "│   │   ├── items.py     # \"items\" submodule, e.g. import app.routers.items\n",
    "│   │   └── users.py     # \"users\" submodule, e.g. import app.routers.users\n",
    "│   └── internal         # \"internal\" is a \"Python subpackage\"\n",
    "│       ├── __init__.py  # makes \"internal\" a \"Python subpackage\"\n",
    "│       └── admin.py     # \"admin\" submodule, e.g. import app.internal.admin\n",
    "```"
   ]
  },
  {
   "cell_type": "markdown",
   "id": "a27b525c",
   "metadata": {},
   "source": [
    "### example - reflex\n",
    "\n",
    "```bash\n",
    "hello\n",
    "├── .web\n",
    "├── assets\n",
    "├── hello\n",
    "│   ├── __init__.py\n",
    "│   └── hello.py\n",
    "└── rxconfig.py\n",
    "```\n",
    "\n",
    "```bash\n",
    "app/\n",
    "├─ assets/\n",
    "├─ app/\n",
    "│  ├─ components/\n",
    "│  │  ├─ __init__.py\n",
    "│  │  ├─ auth.py\n",
    "│  │  ├─ footer.py\n",
    "│  │  ├─ menu.py\n",
    "│  │  ├─ navbar.py\n",
    "│  ├─ pages/\n",
    "│  │  ├─ __init__.py\n",
    "│  │  ├─ index.py\n",
    "│  │  ├─ login.py\n",
    "│  │  ├─ posts.py\n",
    "│  │  ├─ product.py\n",
    "│  │  ├─ profile.py\n",
    "│  │  ├─ schedule.py\n",
    "│  ├─ __init__.py\n",
    "│  ├─ app.py\n",
    "│  ├─ models.py\n",
    "│  ├─ state.py\n",
    "│  ├─ template.py\n",
    "│  └─ api                  # \"app\" is a Python package\n",
    "│     ├─ __init__.py      # this file makes \"app\" a \"Python package\"\n",
    "│     ├─ main.py          # \"main\" module, e.g. import app.main\n",
    "│     ├─ dependencies.py  # \"dependencies\" module, e.g. import app.dependencies\n",
    "│     └─ routers          # \"routers\" is a \"Python subpackage\"\n",
    "│     │  ├─ __init__.py  # makes \"routers\" a \"Python subpackage\"\n",
    "│     │  ├─ items.py     # \"items\" submodule, e.g. import app.routers.items\n",
    "│     │  └─ users.py     # \"users\" submodule, e.g. import app.routers.users\n",
    "│     └── internal         # \"internal\" is a \"Python subpackage\"\n",
    "│        ├─ __init__.py  # makes \"internal\" a \"Python subpackage\"\n",
    "│        └─ admin.py     # \"admin\" submodule, e.g. import app.internal.admin\n",
    "├─ uploaded_files/\n",
    "├─ requirements.txt\n",
    "├─ rxconfig.py\n",
    "```\n"
   ]
  },
  {
   "cell_type": "markdown",
   "id": "42a34530",
   "metadata": {},
   "source": []
  }
 ],
 "metadata": {
  "language_info": {
   "name": "python"
  }
 },
 "nbformat": 4,
 "nbformat_minor": 5
}
