{
 "cells": [
  {
   "cell_type": "markdown",
   "id": "ba44b60e-2c88-4435-9717-e27a1adfb0cd",
   "metadata": {},
   "source": [
    "## Cookie Parameters "
   ]
  },
  {
   "cell_type": "code",
   "execution_count": 1,
   "id": "c6e07dde-415f-41e3-a688-90fb6ed05944",
   "metadata": {},
   "outputs": [],
   "source": [
    "from typing import Annotated\n",
    "\n",
    "from fastapi import Cookie, FastAPI\n",
    "\n",
    "app = FastAPI()"
   ]
  },
  {
   "cell_type": "code",
   "execution_count": 2,
   "id": "8d51d548-ef7c-402a-8495-5dce8e07ceaa",
   "metadata": {},
   "outputs": [],
   "source": [
    "@app.get(\"/items/\")\n",
    "async def read_items(ads_id: Annotated[str | None, Cookie()] = None):\n",
    "    return {\"ads_id\": ads_id}"
   ]
  },
  {
   "cell_type": "markdown",
   "id": "ee68530c-c1e5-4b73-af57-8de7cf496f56",
   "metadata": {},
   "source": [
    "## Header Parameters"
   ]
  },
  {
   "cell_type": "code",
   "execution_count": 3,
   "id": "8510afa5-7fa9-4fac-8924-a66ecc624765",
   "metadata": {},
   "outputs": [],
   "source": [
    "from fastapi import FastAPI, Header"
   ]
  },
  {
   "cell_type": "code",
   "execution_count": 4,
   "id": "59556a3b-e49e-4b71-b60e-21f66c6b6fad",
   "metadata": {},
   "outputs": [],
   "source": [
    "@app.get(\"/items/\")\n",
    "async def read_items(user_agent: Annotated[str | None, Header()] = None):\n",
    "    return {\"User-Agent\": user_agent}"
   ]
  },
  {
   "cell_type": "markdown",
   "id": "6757beba-b22b-489c-8d5a-3424d5a8c86a",
   "metadata": {},
   "source": [
    "FastAPI's Header function automatically converts underscores to hyphens in parameter names (e.g., user_agent becomes user-agent) and handles case-insensitive HTTP headers using Python snake_case. You can disable this automatic conversion by setting convert_underscores=False if needed."
   ]
  },
  {
   "cell_type": "code",
   "execution_count": 5,
   "id": "d2edb0bb-eb8a-469c-bffa-06979f872d52",
   "metadata": {},
   "outputs": [],
   "source": [
    "@app.get(\"/items/\")\n",
    "async def read_items(\n",
    "    strange_header: Annotated[str | None, Header(convert_underscores=False)] = None,\n",
    "):\n",
    "    return {\"strange_header\": strange_header}"
   ]
  },
  {
   "cell_type": "code",
   "execution_count": null,
   "id": "0f16d79c-c7bc-4e28-9686-41d06d7dcf79",
   "metadata": {},
   "outputs": [],
   "source": []
  },
  {
   "cell_type": "markdown",
   "id": "686a9c88-e2e5-44bb-a123-fc1b6379dd58",
   "metadata": {},
   "source": [
    "Duplicate headers\n",
    "\n",
    "It is possible to receive duplicate headers. That means, the same header with multiple values.\n",
    "\n",
    "You can define those cases using a list in the type declaration.\n",
    "\n",
    "You will receive all the values from the duplicate header as a Python list.\n",
    "\n",
    "For example, to declare a header of X-Token that can appear more than once, you can write:\n",
    "\n"
   ]
  },
  {
   "cell_type": "code",
   "execution_count": 6,
   "id": "bd46fe0a-e1ac-401c-ac4d-42f64cd656b2",
   "metadata": {},
   "outputs": [],
   "source": [
    "@app.get(\"/items/\")\n",
    "async def read_items(x_token: Annotated[list[str] | None, Header()] = None):\n",
    "    return {\"X-Token values\": x_token}"
   ]
  },
  {
   "cell_type": "code",
   "execution_count": null,
   "id": "4efcc2b4-d060-4eee-8653-aca13db269b7",
   "metadata": {},
   "outputs": [],
   "source": []
  },
  {
   "cell_type": "code",
   "execution_count": null,
   "id": "f00d3a15-f825-478b-82dc-27790770c46b",
   "metadata": {},
   "outputs": [],
   "source": []
  },
  {
   "cell_type": "code",
   "execution_count": null,
   "id": "9b639f47-83e8-43b7-8f3d-068ef43a9dd4",
   "metadata": {},
   "outputs": [],
   "source": []
  },
  {
   "cell_type": "code",
   "execution_count": null,
   "id": "37d22b67-821e-45c6-82ed-d0290d760bfd",
   "metadata": {},
   "outputs": [],
   "source": []
  },
  {
   "cell_type": "code",
   "execution_count": null,
   "id": "9e37055a-bebf-48dc-8648-229e79093582",
   "metadata": {},
   "outputs": [],
   "source": []
  },
  {
   "cell_type": "code",
   "execution_count": null,
   "id": "6ef7a202-f3e5-4bb9-912c-2dcb0bddf7e5",
   "metadata": {},
   "outputs": [],
   "source": []
  },
  {
   "cell_type": "code",
   "execution_count": null,
   "id": "90e06a38-0cad-4dab-af4b-20d264cdc5e0",
   "metadata": {},
   "outputs": [],
   "source": []
  },
  {
   "cell_type": "code",
   "execution_count": null,
   "id": "76212228-fe2e-4126-bc60-bbd416b2268e",
   "metadata": {},
   "outputs": [],
   "source": []
  }
 ],
 "metadata": {
  "kernelspec": {
   "display_name": "Python 3 (ipykernel)",
   "language": "python",
   "name": "python3"
  },
  "language_info": {
   "codemirror_mode": {
    "name": "ipython",
    "version": 3
   },
   "file_extension": ".py",
   "mimetype": "text/x-python",
   "name": "python",
   "nbconvert_exporter": "python",
   "pygments_lexer": "ipython3",
   "version": "3.12.4"
  }
 },
 "nbformat": 4,
 "nbformat_minor": 5
}
