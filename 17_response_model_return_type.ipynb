{
 "cells": [
  {
   "cell_type": "markdown",
   "id": "74195b47-bcd5-46d6-973d-d01fdfd3a98f",
   "metadata": {},
   "source": [
    "# Response Model - Return Type"
   ]
  },
  {
   "cell_type": "code",
   "execution_count": 2,
   "id": "ed9ca576-6009-4ce3-8ccb-f52bdf188fca",
   "metadata": {},
   "outputs": [],
   "source": [
    "from fastapi import FastAPI\n",
    "from pydantic import BaseModel\n",
    "\n",
    "app = FastAPI()"
   ]
  },
  {
   "cell_type": "code",
   "execution_count": 3,
   "id": "6d071558-f1b3-497f-9195-64fdc195528d",
   "metadata": {},
   "outputs": [],
   "source": [
    "class Item(BaseModel):\n",
    "    name: str\n",
    "    description: str | None = None\n",
    "    price: float\n",
    "    tax: float | None = None\n",
    "    tags: list[str] = []"
   ]
  },
  {
   "cell_type": "markdown",
   "id": "9d14f497-3317-43e2-8ff5-6143ce92f0f4",
   "metadata": {},
   "source": [
    "you can declare `response type` by annotating the path operation function `return type`"
   ]
  },
  {
   "cell_type": "code",
   "execution_count": 6,
   "id": "e7597577-ad34-4e08-adf1-366aadd5835d",
   "metadata": {},
   "outputs": [],
   "source": [
    "@app.post(\"/items/\")\n",
    "async def create_item(item: Item) -> Item: # '-> Item' is annotating the return type \n",
    "    return item"
   ]
  },
  {
   "cell_type": "markdown",
   "id": "37d48e7e-4bb0-42ba-b0a0-47acad88ace5",
   "metadata": {},
   "source": [
    "you can also use `type annotations` for the `return type` "
   ]
  },
  {
   "cell_type": "code",
   "execution_count": 7,
   "id": "dbdfbffd-7ce7-4350-8251-0f2e6a898634",
   "metadata": {},
   "outputs": [],
   "source": [
    "@app.get(\"/items/\")\n",
    "async def read_items() -> list[Item]: \n",
    "    return [\n",
    "        Item(name=\"Portal Gun\", price=42.0),\n",
    "        Item(name=\"Plumbus\", price=32.0),\n",
    "    ]"
   ]
  },
  {
   "cell_type": "markdown",
   "id": "025d523d-b0ce-4449-9556-bc8033043399",
   "metadata": {},
   "source": [
    "when declaring the response type, the fastapi will:\n",
    "\n",
    "- validate the returned data\n",
    "- add a json schema for the response (for api doc)\n",
    "- it will limit and filter the output data the output data to what is defined in the returned type (important for security)"
   ]
  },
  {
   "cell_type": "markdown",
   "id": "849a57a3-67e6-4e04-906c-92a05c15f72d",
   "metadata": {},
   "source": [
    "## `response_model` Parameter"
   ]
  },
  {
   "cell_type": "markdown",
   "id": "f957614b-2b8a-4942-8f04-c056a94ceeeb",
   "metadata": {},
   "source": [
    "You can use the response_model parameter in FastAPI's path operation decorator instead of return type annotations when you want to return data (like a dictionary or database object) that differs from the declared Pydantic model type, allowing the model to handle documentation and validation while avoiding type checker errors.\n",
    "\n",
    "\n",
    "• Use `response_model` parameter in FastAPI's path operation decorator instead of return type annotations\n",
    "\n",
    "• Useful when returning data that differs from the declared type (e.g., returning a dictionary but declaring a Pydantic model)\n",
    "\n",
    "• Allows the Pydantic model to handle documentation and validation for the returned object\n",
    "\n",
    "• Avoids type checker errors that would occur when the actual return type doesn't match the declared type annotation\n",
    "\n",
    "• Common scenarios include returning dictionaries, database objects, or other types while maintaining Pydantic model benefits\n"
   ]
  },
  {
   "cell_type": "markdown",
   "id": "0819ab8c-10ff-4406-89f0-8c9f503e2137",
   "metadata": {},
   "source": [
    "You can use the response_model parameter in any of the path operations:\n",
    "\n",
    "- @app.get()\n",
    "- @app.post()\n",
    "- @app.put()\n",
    "- @app.delete()\n",
    "- etc.\n"
   ]
  },
  {
   "cell_type": "code",
   "execution_count": 9,
   "id": "dff3c0b6-7af3-4778-a32d-76c6842defb7",
   "metadata": {},
   "outputs": [],
   "source": [
    "from typing import Any"
   ]
  },
  {
   "cell_type": "code",
   "execution_count": 10,
   "id": "1c978a4d-7391-4662-b975-689d7ee2e771",
   "metadata": {},
   "outputs": [],
   "source": [
    "@app.post(\"/items/\", response_model=Item)\n",
    "async def create_item(item: Item) -> Any:\n",
    "    return item\n",
    "\n",
    "\n",
    "@app.get(\"/items/\", response_model=list[Item])\n",
    "async def read_items() -> Any:\n",
    "    return [\n",
    "        {\"name\": \"Portal Gun\", \"price\": 42.0},\n",
    "        {\"name\": \"Plumbus\", \"price\": 32.0},\n",
    "    ]"
   ]
  },
  {
   "cell_type": "markdown",
   "id": "7de74d7f-5bce-4b64-b94c-82e0ab905b80",
   "metadata": {},
   "source": [
    "FastAPI will use this `response_model` to do all the data documentation, validation, etc. and also to convert and filter the output data to its type declaration."
   ]
  },
  {
   "cell_type": "code",
   "execution_count": null,
   "id": "7b00fdb9-3187-4020-b56f-58824b46f55a",
   "metadata": {},
   "outputs": [],
   "source": []
  },
  {
   "cell_type": "markdown",
   "id": "8f9477ba-be2d-4338-9379-465bfe933a33",
   "metadata": {},
   "source": [
    "we can create two different models for getting the input and outputting"
   ]
  },
  {
   "cell_type": "code",
   "execution_count": 12,
   "id": "55c00a6e-931e-4d44-b491-34a8da757465",
   "metadata": {},
   "outputs": [],
   "source": [
    "from pydantic import EmailStr"
   ]
  },
  {
   "cell_type": "code",
   "execution_count": 14,
   "id": "7c248d56-08e9-4098-8d0e-724318849096",
   "metadata": {},
   "outputs": [],
   "source": [
    "class UserIn(BaseModel): \n",
    "    username: str \n",
    "    password: str \n",
    "    email: EmailStr \n",
    "    full_name: str | None = None"
   ]
  },
  {
   "cell_type": "code",
   "execution_count": 15,
   "id": "6d6602cd-0837-4753-8de8-b01d9e103f66",
   "metadata": {},
   "outputs": [],
   "source": [
    "class UserOut(BaseModel):\n",
    "    username: str \n",
    "    email: EmailStr \n",
    "    full_name: str | None = None"
   ]
  },
  {
   "cell_type": "code",
   "execution_count": 16,
   "id": "8d7eedf3-8d21-4204-a5a0-07241e001d99",
   "metadata": {},
   "outputs": [],
   "source": [
    "@app.post(\"/user/\", response_model=UserOut) \n",
    "async def create_user(user: UserIn) -> Any:\n",
    "    return user"
   ]
  },
  {
   "cell_type": "markdown",
   "id": "e8d259d7-9cab-4f42-b7a7-e8752785db86",
   "metadata": {},
   "source": [
    "this way, we dont return the password"
   ]
  },
  {
   "cell_type": "code",
   "execution_count": null,
   "id": "d23e25c1-476e-48ea-85fd-1acba2fd67eb",
   "metadata": {},
   "outputs": [],
   "source": []
  },
  {
   "cell_type": "markdown",
   "id": "608b1b7e-d0d4-4851-8471-d882b370a174",
   "metadata": {},
   "source": [
    "# Return Type and Data Filtering"
   ]
  },
  {
   "cell_type": "markdown",
   "id": "a8456536-1e74-40c4-be77-f623143ed7da",
   "metadata": {},
   "source": [
    "- in the above example, we had to declare two models and use `response_model` parameter to not return `password` data.\n",
    "- doing it like above, means that we dont get support from the editor and tools checking the function return type.\n",
    "- Since we want the model to `filter/remove` some data, we can use `classes and inheritance` to take advantage of function type annotations to get better support in the editor and tools, and still get the FastAPI data filtering."
   ]
  },
  {
   "cell_type": "code",
   "execution_count": 17,
   "id": "fe8f9631-1a75-43fc-bbe3-7c92365c5f36",
   "metadata": {},
   "outputs": [],
   "source": [
    "class BaseUser(BaseModel): \n",
    "    username: str \n",
    "    email: EmailStr \n",
    "    full_name: str | None = None \n",
    "\n",
    "class UserIn(BaseUser): \n",
    "    password: str \n",
    "\n",
    "@app.post(\"/user/\") \n",
    "async def create_user(user: UserIn) -> BaseUser: \n",
    "    return user "
   ]
  },
  {
   "cell_type": "markdown",
   "id": "168eab73-adbe-4a87-8230-86d235437fca",
   "metadata": {},
   "source": [
    "This way, you can get the best of both worlds: `type annotations` with `tooling support` and `data filtering`."
   ]
  },
  {
   "cell_type": "code",
   "execution_count": null,
   "id": "fe525d69-e8d4-4458-8903-1a3f1ef5e20e",
   "metadata": {},
   "outputs": [],
   "source": []
  },
  {
   "cell_type": "markdown",
   "id": "5e49375f-152b-4989-bd84-915f429c9b50",
   "metadata": {},
   "source": [
    "## Other Return Type Annotations"
   ]
  },
  {
   "cell_type": "markdown",
   "id": "1f76fc15-85e2-46c9-a199-b910f1fba86b",
   "metadata": {},
   "source": [
    "- Return a Response Directly\n",
    "- Annotate a Response Subclass\n",
    "- Invalid Return Type Annotations\n",
    "- Disable Response Model\n"
   ]
  },
  {
   "cell_type": "markdown",
   "id": "4a4da10b-e199-475b-980b-cda53e450001",
   "metadata": {},
   "source": [
    "### Return a Response Directly"
   ]
  },
  {
   "cell_type": "code",
   "execution_count": 18,
   "id": "8c5119b5-70fe-4a2e-a1ef-65b2fc9fa8cf",
   "metadata": {},
   "outputs": [],
   "source": [
    "from fastapi import FastAPI, Response\n",
    "from fastapi.responses import JSONResponse, RedirectResponse\n",
    "\n",
    "app = FastAPI()\n",
    "\n",
    "\n",
    "@app.get(\"/portal\")\n",
    "async def get_portal(teleport: bool = False) -> Response:\n",
    "    if teleport:\n",
    "        return RedirectResponse(url=\"https://www.youtube.com/watch?v=dQw4w9WgXcQ\")\n",
    "    return JSONResponse(content={\"message\": \"Here's your interdimensional portal.\"})"
   ]
  },
  {
   "cell_type": "markdown",
   "id": "e1ab5472-d5cc-4832-93dc-a509491a2752",
   "metadata": {},
   "source": [
    "### Annotate a Response Subclass"
   ]
  },
  {
   "cell_type": "code",
   "execution_count": 22,
   "id": "3e371835-2e75-4e33-b134-85e0fbaf7c03",
   "metadata": {},
   "outputs": [],
   "source": [
    "from fastapi import FastAPI\n",
    "from fastapi.responses import RedirectResponse\n",
    "\n",
    "app = FastAPI()\n",
    "\n",
    "\n",
    "@app.get(\"/teleport\")\n",
    "async def get_teleport() -> RedirectResponse:\n",
    "    return RedirectResponse(url=\"https://www.youtube.com/watch?v=dQw4w9WgXcQ\")"
   ]
  },
  {
   "cell_type": "code",
   "execution_count": null,
   "id": "024fa2fc-b789-4a70-810b-b6b4421c0327",
   "metadata": {},
   "outputs": [],
   "source": []
  },
  {
   "cell_type": "markdown",
   "id": "69796a26-0992-4bad-b82a-ac99818d2b49",
   "metadata": {},
   "source": [
    "### Invalid Return Type Annotations \n",
    "\n",
    "- when you return some other arbitrary object that is not a valid Pydantic type (e.g. a database object) and you annotate it like that in the function, FastAPI will try to create a Pydantic response model from that type annotation, and will fail."
   ]
  },
  {
   "cell_type": "code",
   "execution_count": 23,
   "id": "90be6abe-d754-4076-aff0-d8f04e36f73b",
   "metadata": {
    "scrolled": true
   },
   "outputs": [
    {
     "ename": "FastAPIError",
     "evalue": "Invalid args for response field! Hint: check that starlette.responses.Response | dict is a valid Pydantic field type. If you are using a return type annotation that is not a valid Pydantic field (e.g. Union[Response, dict, None]) you can disable generating the response model from the type annotation with the path operation decorator parameter response_model=None. Read more: https://fastapi.tiangolo.com/tutorial/response-model/",
     "output_type": "error",
     "traceback": [
      "\u001b[31m---------------------------------------------------------------------------\u001b[39m",
      "\u001b[31mFastAPIError\u001b[39m                              Traceback (most recent call last)",
      "\u001b[36mCell\u001b[39m\u001b[36m \u001b[39m\u001b[32mIn[23]\u001b[39m\u001b[32m, line 7\u001b[39m\n\u001b[32m      2\u001b[39m \u001b[38;5;28;01mfrom\u001b[39;00m\u001b[38;5;250m \u001b[39m\u001b[34;01mfastapi\u001b[39;00m\u001b[34;01m.\u001b[39;00m\u001b[34;01mresponses\u001b[39;00m\u001b[38;5;250m \u001b[39m\u001b[38;5;28;01mimport\u001b[39;00m RedirectResponse\n\u001b[32m      4\u001b[39m app = FastAPI()\n\u001b[32m----> \u001b[39m\u001b[32m7\u001b[39m \u001b[38;5;129;43m@app\u001b[39;49m\u001b[43m.\u001b[49m\u001b[43mget\u001b[49m\u001b[43m(\u001b[49m\u001b[33;43m\"\u001b[39;49m\u001b[33;43m/portal\u001b[39;49m\u001b[33;43m\"\u001b[39;49m\u001b[43m)\u001b[49m\n\u001b[32m      8\u001b[39m \u001b[38;5;28;43;01masync\u001b[39;49;00m\u001b[43m \u001b[49m\u001b[38;5;28;43;01mdef\u001b[39;49;00m\u001b[38;5;250;43m \u001b[39;49m\u001b[34;43mget_portal\u001b[39;49m\u001b[43m(\u001b[49m\u001b[43mteleport\u001b[49m\u001b[43m:\u001b[49m\u001b[43m \u001b[49m\u001b[38;5;28;43mbool\u001b[39;49m\u001b[43m \u001b[49m\u001b[43m=\u001b[49m\u001b[43m \u001b[49m\u001b[38;5;28;43;01mFalse\u001b[39;49;00m\u001b[43m)\u001b[49m\u001b[43m \u001b[49m\u001b[43m-\u001b[49m\u001b[43m>\u001b[49m\u001b[43m \u001b[49m\u001b[43mResponse\u001b[49m\u001b[43m \u001b[49m\u001b[43m|\u001b[49m\u001b[43m \u001b[49m\u001b[38;5;28;43mdict\u001b[39;49m\u001b[43m:\u001b[49m\u001b[43m \u001b[49m\u001b[38;5;66;43;03m# this will fail\u001b[39;49;00m\n\u001b[32m      9\u001b[39m \u001b[43m    \u001b[49m\u001b[38;5;28;43;01mif\u001b[39;49;00m\u001b[43m \u001b[49m\u001b[43mteleport\u001b[49m\u001b[43m:\u001b[49m\n\u001b[32m     10\u001b[39m \u001b[43m        \u001b[49m\u001b[38;5;28;43;01mreturn\u001b[39;49;00m\u001b[43m \u001b[49m\u001b[43mRedirectResponse\u001b[49m\u001b[43m(\u001b[49m\u001b[43murl\u001b[49m\u001b[43m=\u001b[49m\u001b[33;43m\"\u001b[39;49m\u001b[33;43mhttps://www.youtube.com/watch?v=dQw4w9WgXcQ\u001b[39;49m\u001b[33;43m\"\u001b[39;49m\u001b[43m)\u001b[49m\n",
      "\u001b[36mFile \u001b[39m\u001b[32m~/Development/code/fun/fastapi-tut/.venv/lib/python3.12/site-packages/fastapi/routing.py:995\u001b[39m, in \u001b[36mAPIRouter.api_route.<locals>.decorator\u001b[39m\u001b[34m(func)\u001b[39m\n\u001b[32m    994\u001b[39m \u001b[38;5;28;01mdef\u001b[39;00m\u001b[38;5;250m \u001b[39m\u001b[34mdecorator\u001b[39m(func: DecoratedCallable) -> DecoratedCallable:\n\u001b[32m--> \u001b[39m\u001b[32m995\u001b[39m     \u001b[38;5;28;43mself\u001b[39;49m\u001b[43m.\u001b[49m\u001b[43madd_api_route\u001b[49m\u001b[43m(\u001b[49m\n\u001b[32m    996\u001b[39m \u001b[43m        \u001b[49m\u001b[43mpath\u001b[49m\u001b[43m,\u001b[49m\n\u001b[32m    997\u001b[39m \u001b[43m        \u001b[49m\u001b[43mfunc\u001b[49m\u001b[43m,\u001b[49m\n\u001b[32m    998\u001b[39m \u001b[43m        \u001b[49m\u001b[43mresponse_model\u001b[49m\u001b[43m=\u001b[49m\u001b[43mresponse_model\u001b[49m\u001b[43m,\u001b[49m\n\u001b[32m    999\u001b[39m \u001b[43m        \u001b[49m\u001b[43mstatus_code\u001b[49m\u001b[43m=\u001b[49m\u001b[43mstatus_code\u001b[49m\u001b[43m,\u001b[49m\n\u001b[32m   1000\u001b[39m \u001b[43m        \u001b[49m\u001b[43mtags\u001b[49m\u001b[43m=\u001b[49m\u001b[43mtags\u001b[49m\u001b[43m,\u001b[49m\n\u001b[32m   1001\u001b[39m \u001b[43m        \u001b[49m\u001b[43mdependencies\u001b[49m\u001b[43m=\u001b[49m\u001b[43mdependencies\u001b[49m\u001b[43m,\u001b[49m\n\u001b[32m   1002\u001b[39m \u001b[43m        \u001b[49m\u001b[43msummary\u001b[49m\u001b[43m=\u001b[49m\u001b[43msummary\u001b[49m\u001b[43m,\u001b[49m\n\u001b[32m   1003\u001b[39m \u001b[43m        \u001b[49m\u001b[43mdescription\u001b[49m\u001b[43m=\u001b[49m\u001b[43mdescription\u001b[49m\u001b[43m,\u001b[49m\n\u001b[32m   1004\u001b[39m \u001b[43m        \u001b[49m\u001b[43mresponse_description\u001b[49m\u001b[43m=\u001b[49m\u001b[43mresponse_description\u001b[49m\u001b[43m,\u001b[49m\n\u001b[32m   1005\u001b[39m \u001b[43m        \u001b[49m\u001b[43mresponses\u001b[49m\u001b[43m=\u001b[49m\u001b[43mresponses\u001b[49m\u001b[43m,\u001b[49m\n\u001b[32m   1006\u001b[39m \u001b[43m        \u001b[49m\u001b[43mdeprecated\u001b[49m\u001b[43m=\u001b[49m\u001b[43mdeprecated\u001b[49m\u001b[43m,\u001b[49m\n\u001b[32m   1007\u001b[39m \u001b[43m        \u001b[49m\u001b[43mmethods\u001b[49m\u001b[43m=\u001b[49m\u001b[43mmethods\u001b[49m\u001b[43m,\u001b[49m\n\u001b[32m   1008\u001b[39m \u001b[43m        \u001b[49m\u001b[43moperation_id\u001b[49m\u001b[43m=\u001b[49m\u001b[43moperation_id\u001b[49m\u001b[43m,\u001b[49m\n\u001b[32m   1009\u001b[39m \u001b[43m        \u001b[49m\u001b[43mresponse_model_include\u001b[49m\u001b[43m=\u001b[49m\u001b[43mresponse_model_include\u001b[49m\u001b[43m,\u001b[49m\n\u001b[32m   1010\u001b[39m \u001b[43m        \u001b[49m\u001b[43mresponse_model_exclude\u001b[49m\u001b[43m=\u001b[49m\u001b[43mresponse_model_exclude\u001b[49m\u001b[43m,\u001b[49m\n\u001b[32m   1011\u001b[39m \u001b[43m        \u001b[49m\u001b[43mresponse_model_by_alias\u001b[49m\u001b[43m=\u001b[49m\u001b[43mresponse_model_by_alias\u001b[49m\u001b[43m,\u001b[49m\n\u001b[32m   1012\u001b[39m \u001b[43m        \u001b[49m\u001b[43mresponse_model_exclude_unset\u001b[49m\u001b[43m=\u001b[49m\u001b[43mresponse_model_exclude_unset\u001b[49m\u001b[43m,\u001b[49m\n\u001b[32m   1013\u001b[39m \u001b[43m        \u001b[49m\u001b[43mresponse_model_exclude_defaults\u001b[49m\u001b[43m=\u001b[49m\u001b[43mresponse_model_exclude_defaults\u001b[49m\u001b[43m,\u001b[49m\n\u001b[32m   1014\u001b[39m \u001b[43m        \u001b[49m\u001b[43mresponse_model_exclude_none\u001b[49m\u001b[43m=\u001b[49m\u001b[43mresponse_model_exclude_none\u001b[49m\u001b[43m,\u001b[49m\n\u001b[32m   1015\u001b[39m \u001b[43m        \u001b[49m\u001b[43minclude_in_schema\u001b[49m\u001b[43m=\u001b[49m\u001b[43minclude_in_schema\u001b[49m\u001b[43m,\u001b[49m\n\u001b[32m   1016\u001b[39m \u001b[43m        \u001b[49m\u001b[43mresponse_class\u001b[49m\u001b[43m=\u001b[49m\u001b[43mresponse_class\u001b[49m\u001b[43m,\u001b[49m\n\u001b[32m   1017\u001b[39m \u001b[43m        \u001b[49m\u001b[43mname\u001b[49m\u001b[43m=\u001b[49m\u001b[43mname\u001b[49m\u001b[43m,\u001b[49m\n\u001b[32m   1018\u001b[39m \u001b[43m        \u001b[49m\u001b[43mcallbacks\u001b[49m\u001b[43m=\u001b[49m\u001b[43mcallbacks\u001b[49m\u001b[43m,\u001b[49m\n\u001b[32m   1019\u001b[39m \u001b[43m        \u001b[49m\u001b[43mopenapi_extra\u001b[49m\u001b[43m=\u001b[49m\u001b[43mopenapi_extra\u001b[49m\u001b[43m,\u001b[49m\n\u001b[32m   1020\u001b[39m \u001b[43m        \u001b[49m\u001b[43mgenerate_unique_id_function\u001b[49m\u001b[43m=\u001b[49m\u001b[43mgenerate_unique_id_function\u001b[49m\u001b[43m,\u001b[49m\n\u001b[32m   1021\u001b[39m \u001b[43m    \u001b[49m\u001b[43m)\u001b[49m\n\u001b[32m   1022\u001b[39m     \u001b[38;5;28;01mreturn\u001b[39;00m func\n",
      "\u001b[36mFile \u001b[39m\u001b[32m~/Development/code/fun/fastapi-tut/.venv/lib/python3.12/site-packages/fastapi/routing.py:934\u001b[39m, in \u001b[36mAPIRouter.add_api_route\u001b[39m\u001b[34m(self, path, endpoint, response_model, status_code, tags, dependencies, summary, description, response_description, responses, deprecated, methods, operation_id, response_model_include, response_model_exclude, response_model_by_alias, response_model_exclude_unset, response_model_exclude_defaults, response_model_exclude_none, include_in_schema, response_class, name, route_class_override, callbacks, openapi_extra, generate_unique_id_function)\u001b[39m\n\u001b[32m    930\u001b[39m     current_callbacks.extend(callbacks)\n\u001b[32m    931\u001b[39m current_generate_unique_id = get_value_or_default(\n\u001b[32m    932\u001b[39m     generate_unique_id_function, \u001b[38;5;28mself\u001b[39m.generate_unique_id_function\n\u001b[32m    933\u001b[39m )\n\u001b[32m--> \u001b[39m\u001b[32m934\u001b[39m route = \u001b[43mroute_class\u001b[49m\u001b[43m(\u001b[49m\n\u001b[32m    935\u001b[39m \u001b[43m    \u001b[49m\u001b[38;5;28;43mself\u001b[39;49m\u001b[43m.\u001b[49m\u001b[43mprefix\u001b[49m\u001b[43m \u001b[49m\u001b[43m+\u001b[49m\u001b[43m \u001b[49m\u001b[43mpath\u001b[49m\u001b[43m,\u001b[49m\n\u001b[32m    936\u001b[39m \u001b[43m    \u001b[49m\u001b[43mendpoint\u001b[49m\u001b[43m=\u001b[49m\u001b[43mendpoint\u001b[49m\u001b[43m,\u001b[49m\n\u001b[32m    937\u001b[39m \u001b[43m    \u001b[49m\u001b[43mresponse_model\u001b[49m\u001b[43m=\u001b[49m\u001b[43mresponse_model\u001b[49m\u001b[43m,\u001b[49m\n\u001b[32m    938\u001b[39m \u001b[43m    \u001b[49m\u001b[43mstatus_code\u001b[49m\u001b[43m=\u001b[49m\u001b[43mstatus_code\u001b[49m\u001b[43m,\u001b[49m\n\u001b[32m    939\u001b[39m \u001b[43m    \u001b[49m\u001b[43mtags\u001b[49m\u001b[43m=\u001b[49m\u001b[43mcurrent_tags\u001b[49m\u001b[43m,\u001b[49m\n\u001b[32m    940\u001b[39m \u001b[43m    \u001b[49m\u001b[43mdependencies\u001b[49m\u001b[43m=\u001b[49m\u001b[43mcurrent_dependencies\u001b[49m\u001b[43m,\u001b[49m\n\u001b[32m    941\u001b[39m \u001b[43m    \u001b[49m\u001b[43msummary\u001b[49m\u001b[43m=\u001b[49m\u001b[43msummary\u001b[49m\u001b[43m,\u001b[49m\n\u001b[32m    942\u001b[39m \u001b[43m    \u001b[49m\u001b[43mdescription\u001b[49m\u001b[43m=\u001b[49m\u001b[43mdescription\u001b[49m\u001b[43m,\u001b[49m\n\u001b[32m    943\u001b[39m \u001b[43m    \u001b[49m\u001b[43mresponse_description\u001b[49m\u001b[43m=\u001b[49m\u001b[43mresponse_description\u001b[49m\u001b[43m,\u001b[49m\n\u001b[32m    944\u001b[39m \u001b[43m    \u001b[49m\u001b[43mresponses\u001b[49m\u001b[43m=\u001b[49m\u001b[43mcombined_responses\u001b[49m\u001b[43m,\u001b[49m\n\u001b[32m    945\u001b[39m \u001b[43m    \u001b[49m\u001b[43mdeprecated\u001b[49m\u001b[43m=\u001b[49m\u001b[43mdeprecated\u001b[49m\u001b[43m \u001b[49m\u001b[38;5;129;43;01mor\u001b[39;49;00m\u001b[43m \u001b[49m\u001b[38;5;28;43mself\u001b[39;49m\u001b[43m.\u001b[49m\u001b[43mdeprecated\u001b[49m\u001b[43m,\u001b[49m\n\u001b[32m    946\u001b[39m \u001b[43m    \u001b[49m\u001b[43mmethods\u001b[49m\u001b[43m=\u001b[49m\u001b[43mmethods\u001b[49m\u001b[43m,\u001b[49m\n\u001b[32m    947\u001b[39m \u001b[43m    \u001b[49m\u001b[43moperation_id\u001b[49m\u001b[43m=\u001b[49m\u001b[43moperation_id\u001b[49m\u001b[43m,\u001b[49m\n\u001b[32m    948\u001b[39m \u001b[43m    \u001b[49m\u001b[43mresponse_model_include\u001b[49m\u001b[43m=\u001b[49m\u001b[43mresponse_model_include\u001b[49m\u001b[43m,\u001b[49m\n\u001b[32m    949\u001b[39m \u001b[43m    \u001b[49m\u001b[43mresponse_model_exclude\u001b[49m\u001b[43m=\u001b[49m\u001b[43mresponse_model_exclude\u001b[49m\u001b[43m,\u001b[49m\n\u001b[32m    950\u001b[39m \u001b[43m    \u001b[49m\u001b[43mresponse_model_by_alias\u001b[49m\u001b[43m=\u001b[49m\u001b[43mresponse_model_by_alias\u001b[49m\u001b[43m,\u001b[49m\n\u001b[32m    951\u001b[39m \u001b[43m    \u001b[49m\u001b[43mresponse_model_exclude_unset\u001b[49m\u001b[43m=\u001b[49m\u001b[43mresponse_model_exclude_unset\u001b[49m\u001b[43m,\u001b[49m\n\u001b[32m    952\u001b[39m \u001b[43m    \u001b[49m\u001b[43mresponse_model_exclude_defaults\u001b[49m\u001b[43m=\u001b[49m\u001b[43mresponse_model_exclude_defaults\u001b[49m\u001b[43m,\u001b[49m\n\u001b[32m    953\u001b[39m \u001b[43m    \u001b[49m\u001b[43mresponse_model_exclude_none\u001b[49m\u001b[43m=\u001b[49m\u001b[43mresponse_model_exclude_none\u001b[49m\u001b[43m,\u001b[49m\n\u001b[32m    954\u001b[39m \u001b[43m    \u001b[49m\u001b[43minclude_in_schema\u001b[49m\u001b[43m=\u001b[49m\u001b[43minclude_in_schema\u001b[49m\u001b[43m \u001b[49m\u001b[38;5;129;43;01mand\u001b[39;49;00m\u001b[43m \u001b[49m\u001b[38;5;28;43mself\u001b[39;49m\u001b[43m.\u001b[49m\u001b[43minclude_in_schema\u001b[49m\u001b[43m,\u001b[49m\n\u001b[32m    955\u001b[39m \u001b[43m    \u001b[49m\u001b[43mresponse_class\u001b[49m\u001b[43m=\u001b[49m\u001b[43mcurrent_response_class\u001b[49m\u001b[43m,\u001b[49m\n\u001b[32m    956\u001b[39m \u001b[43m    \u001b[49m\u001b[43mname\u001b[49m\u001b[43m=\u001b[49m\u001b[43mname\u001b[49m\u001b[43m,\u001b[49m\n\u001b[32m    957\u001b[39m \u001b[43m    \u001b[49m\u001b[43mdependency_overrides_provider\u001b[49m\u001b[43m=\u001b[49m\u001b[38;5;28;43mself\u001b[39;49m\u001b[43m.\u001b[49m\u001b[43mdependency_overrides_provider\u001b[49m\u001b[43m,\u001b[49m\n\u001b[32m    958\u001b[39m \u001b[43m    \u001b[49m\u001b[43mcallbacks\u001b[49m\u001b[43m=\u001b[49m\u001b[43mcurrent_callbacks\u001b[49m\u001b[43m,\u001b[49m\n\u001b[32m    959\u001b[39m \u001b[43m    \u001b[49m\u001b[43mopenapi_extra\u001b[49m\u001b[43m=\u001b[49m\u001b[43mopenapi_extra\u001b[49m\u001b[43m,\u001b[49m\n\u001b[32m    960\u001b[39m \u001b[43m    \u001b[49m\u001b[43mgenerate_unique_id_function\u001b[49m\u001b[43m=\u001b[49m\u001b[43mcurrent_generate_unique_id\u001b[49m\u001b[43m,\u001b[49m\n\u001b[32m    961\u001b[39m \u001b[43m\u001b[49m\u001b[43m)\u001b[49m\n\u001b[32m    962\u001b[39m \u001b[38;5;28mself\u001b[39m.routes.append(route)\n",
      "\u001b[36mFile \u001b[39m\u001b[32m~/Development/code/fun/fastapi-tut/.venv/lib/python3.12/site-packages/fastapi/routing.py:512\u001b[39m, in \u001b[36mAPIRoute.__init__\u001b[39m\u001b[34m(self, path, endpoint, response_model, status_code, tags, dependencies, summary, description, response_description, responses, deprecated, name, methods, operation_id, response_model_include, response_model_exclude, response_model_by_alias, response_model_exclude_unset, response_model_exclude_defaults, response_model_exclude_none, include_in_schema, response_class, dependency_overrides_provider, callbacks, openapi_extra, generate_unique_id_function)\u001b[39m\n\u001b[32m    508\u001b[39m \u001b[38;5;28;01massert\u001b[39;00m is_body_allowed_for_status_code(status_code), (\n\u001b[32m    509\u001b[39m     \u001b[33mf\u001b[39m\u001b[33m\"\u001b[39m\u001b[33mStatus code \u001b[39m\u001b[38;5;132;01m{\u001b[39;00mstatus_code\u001b[38;5;132;01m}\u001b[39;00m\u001b[33m must not have a response body\u001b[39m\u001b[33m\"\u001b[39m\n\u001b[32m    510\u001b[39m )\n\u001b[32m    511\u001b[39m response_name = \u001b[33m\"\u001b[39m\u001b[33mResponse_\u001b[39m\u001b[33m\"\u001b[39m + \u001b[38;5;28mself\u001b[39m.unique_id\n\u001b[32m--> \u001b[39m\u001b[32m512\u001b[39m \u001b[38;5;28mself\u001b[39m.response_field = \u001b[43mcreate_model_field\u001b[49m\u001b[43m(\u001b[49m\n\u001b[32m    513\u001b[39m \u001b[43m    \u001b[49m\u001b[43mname\u001b[49m\u001b[43m=\u001b[49m\u001b[43mresponse_name\u001b[49m\u001b[43m,\u001b[49m\n\u001b[32m    514\u001b[39m \u001b[43m    \u001b[49m\u001b[43mtype_\u001b[49m\u001b[43m=\u001b[49m\u001b[38;5;28;43mself\u001b[39;49m\u001b[43m.\u001b[49m\u001b[43mresponse_model\u001b[49m\u001b[43m,\u001b[49m\n\u001b[32m    515\u001b[39m \u001b[43m    \u001b[49m\u001b[43mmode\u001b[49m\u001b[43m=\u001b[49m\u001b[33;43m\"\u001b[39;49m\u001b[33;43mserialization\u001b[39;49m\u001b[33;43m\"\u001b[39;49m\u001b[43m,\u001b[49m\n\u001b[32m    516\u001b[39m \u001b[43m\u001b[49m\u001b[43m)\u001b[49m\n\u001b[32m    517\u001b[39m \u001b[38;5;66;03m# Create a clone of the field, so that a Pydantic submodel is not returned\u001b[39;00m\n\u001b[32m    518\u001b[39m \u001b[38;5;66;03m# as is just because it's an instance of a subclass of a more limited class\u001b[39;00m\n\u001b[32m    519\u001b[39m \u001b[38;5;66;03m# e.g. UserInDB (containing hashed_password) could be a subclass of User\u001b[39;00m\n\u001b[32m   (...)\u001b[39m\u001b[32m    523\u001b[39m \u001b[38;5;66;03m# will always be created.\u001b[39;00m\n\u001b[32m    524\u001b[39m \u001b[38;5;66;03m# TODO: remove when deprecating Pydantic v1\u001b[39;00m\n\u001b[32m    525\u001b[39m \u001b[38;5;28mself\u001b[39m.secure_cloned_response_field: Optional[ModelField] = (\n\u001b[32m    526\u001b[39m     create_cloned_field(\u001b[38;5;28mself\u001b[39m.response_field)\n\u001b[32m    527\u001b[39m )\n",
      "\u001b[36mFile \u001b[39m\u001b[32m~/Development/code/fun/fastapi-tut/.venv/lib/python3.12/site-packages/fastapi/utils.py:98\u001b[39m, in \u001b[36mcreate_model_field\u001b[39m\u001b[34m(name, type_, class_validators, default, required, model_config, field_info, alias, mode)\u001b[39m\n\u001b[32m     96\u001b[39m     \u001b[38;5;28;01mreturn\u001b[39;00m ModelField(**kwargs)  \u001b[38;5;66;03m# type: ignore[arg-type]\u001b[39;00m\n\u001b[32m     97\u001b[39m \u001b[38;5;28;01mexcept\u001b[39;00m (\u001b[38;5;167;01mRuntimeError\u001b[39;00m, PydanticSchemaGenerationError):\n\u001b[32m---> \u001b[39m\u001b[32m98\u001b[39m     \u001b[38;5;28;01mraise\u001b[39;00m fastapi.exceptions.FastAPIError(\n\u001b[32m     99\u001b[39m         \u001b[33m\"\u001b[39m\u001b[33mInvalid args for response field! Hint: \u001b[39m\u001b[33m\"\u001b[39m\n\u001b[32m    100\u001b[39m         \u001b[33mf\u001b[39m\u001b[33m\"\u001b[39m\u001b[33mcheck that \u001b[39m\u001b[38;5;132;01m{\u001b[39;00mtype_\u001b[38;5;132;01m}\u001b[39;00m\u001b[33m is a valid Pydantic field type. \u001b[39m\u001b[33m\"\u001b[39m\n\u001b[32m    101\u001b[39m         \u001b[33m\"\u001b[39m\u001b[33mIf you are using a return type annotation that is not a valid Pydantic \u001b[39m\u001b[33m\"\u001b[39m\n\u001b[32m    102\u001b[39m         \u001b[33m\"\u001b[39m\u001b[33mfield (e.g. Union[Response, dict, None]) you can disable generating the \u001b[39m\u001b[33m\"\u001b[39m\n\u001b[32m    103\u001b[39m         \u001b[33m\"\u001b[39m\u001b[33mresponse model from the type annotation with the path operation decorator \u001b[39m\u001b[33m\"\u001b[39m\n\u001b[32m    104\u001b[39m         \u001b[33m\"\u001b[39m\u001b[33mparameter response_model=None. Read more: \u001b[39m\u001b[33m\"\u001b[39m\n\u001b[32m    105\u001b[39m         \u001b[33m\"\u001b[39m\u001b[33mhttps://fastapi.tiangolo.com/tutorial/response-model/\u001b[39m\u001b[33m\"\u001b[39m\n\u001b[32m    106\u001b[39m     ) \u001b[38;5;28;01mfrom\u001b[39;00m\u001b[38;5;250m \u001b[39m\u001b[38;5;28;01mNone\u001b[39;00m\n",
      "\u001b[31mFastAPIError\u001b[39m: Invalid args for response field! Hint: check that starlette.responses.Response | dict is a valid Pydantic field type. If you are using a return type annotation that is not a valid Pydantic field (e.g. Union[Response, dict, None]) you can disable generating the response model from the type annotation with the path operation decorator parameter response_model=None. Read more: https://fastapi.tiangolo.com/tutorial/response-model/"
     ]
    }
   ],
   "source": [
    "from fastapi import FastAPI, Response\n",
    "from fastapi.responses import RedirectResponse\n",
    "\n",
    "app = FastAPI()\n",
    "\n",
    "\n",
    "@app.get(\"/portal\")\n",
    "async def get_portal(teleport: bool = False) -> Response | dict: # this will fail\n",
    "    if teleport:\n",
    "        return RedirectResponse(url=\"https://www.youtube.com/watch?v=dQw4w9WgXcQ\")\n",
    "    return {\"message\": \"Here's your interdimensional portal.\"}"
   ]
  },
  {
   "cell_type": "markdown",
   "id": "91d926dc-d62b-4986-b9e1-469cb11d5503",
   "metadata": {},
   "source": [
    "### Disable Response Model\n",
    "\n",
    "you might not want to have the default data validation, documentation, filtering, etc. that is performed by FastAPI.\n",
    "\n",
    "But you might want to still keep the return type annotation in the function to get the support from tools like editors and type checkers (e.g. mypy)"
   ]
  },
  {
   "cell_type": "code",
   "execution_count": 25,
   "id": "83331f0f-4c43-429f-bb59-eb27bfe3f01f",
   "metadata": {},
   "outputs": [],
   "source": [
    "from fastapi import FastAPI, Response\n",
    "from fastapi.responses import RedirectResponse\n",
    "\n",
    "app = FastAPI()\n",
    "\n",
    "\n",
    "@app.get(\"/portal\", response_model=None)\n",
    "async def get_portal(teleport: bool = False) -> Response | dict:\n",
    "    if teleport:\n",
    "        return RedirectResponse(url=\"https://www.youtube.com/watch?v=dQw4w9WgXcQ\")\n",
    "    return {\"message\": \"Here's your interdimensional portal.\"}"
   ]
  },
  {
   "cell_type": "code",
   "execution_count": null,
   "id": "da40d0b1-d014-46fd-b77f-f4d0583af34c",
   "metadata": {},
   "outputs": [],
   "source": []
  },
  {
   "cell_type": "markdown",
   "id": "e2fdd054-f76e-449c-a758-46e8e1a99f13",
   "metadata": {},
   "source": [
    "## Response Model encoding parameters"
   ]
  },
  {
   "cell_type": "markdown",
   "id": "bc425592-fe63-4fe5-95b7-284ddf99bc10",
   "metadata": {},
   "source": [
    "\n",
    "- Use the response_model_exclude_unset parameter\n",
    "- Data with values for fields with defaults\n",
    "- Data with the same values as the defaults\n",
    "\n",
    "- Using lists instead of sets"
   ]
  },
  {
   "cell_type": "code",
   "execution_count": null,
   "id": "d27fecc3-03bf-484c-bc3f-4ce4891593cd",
   "metadata": {},
   "outputs": [],
   "source": []
  },
  {
   "cell_type": "code",
   "execution_count": null,
   "id": "ab110791-529b-4980-83cf-6cb71115fd97",
   "metadata": {},
   "outputs": [],
   "source": []
  },
  {
   "cell_type": "markdown",
   "id": "9c5eb7b0-7d8a-47a3-b2e2-d716ad31ae85",
   "metadata": {},
   "source": [
    "## Response Model encoding parameters \n",
    "\n",
    "Your response model could have default values"
   ]
  },
  {
   "cell_type": "code",
   "execution_count": 26,
   "id": "c83fcebc-8987-4f97-a904-c54ecfecd5c6",
   "metadata": {},
   "outputs": [],
   "source": [
    "class Item(BaseModel):\n",
    "    name: str\n",
    "    description: str | None = None\n",
    "    price: float\n",
    "    tax: float = 10.5\n",
    "    tags: list[str] = []"
   ]
  },
  {
   "cell_type": "code",
   "execution_count": 28,
   "id": "ef190029-c487-4b56-82de-2b7986233e9b",
   "metadata": {},
   "outputs": [],
   "source": [
    "\n",
    "items = {\n",
    "    \"foo\": {\"name\": \"Foo\", \"price\": 50.2},\n",
    "    \"bar\": {\"name\": \"Bar\", \"description\": \"The bartenders\", \"price\": 62, \"tax\": 20.2},\n",
    "    \"baz\": {\"name\": \"Baz\", \"description\": None, \"price\": 50.2, \"tax\": 10.5, \"tags\": []},\n",
    "}\n",
    "\n",
    "\n",
    "@app.get(\"/items/{item_id}\", response_model=Item, response_model_exclude_unset=True)\n",
    "async def read_item(item_id: str):\n",
    "    \"\"\"\n",
    "    {\n",
    "        \"name\": \"Foo\",\n",
    "        \"price\": 50.2\n",
    "    }\n",
    "    \"\"\"\n",
    "    return items[item_id]"
   ]
  },
  {
   "cell_type": "markdown",
   "id": "f7abb3e9-27f9-4b69-84d1-c60cf76769b6",
   "metadata": {},
   "source": [
    "\n",
    "setting `response_model_exclude_unset=True` will make those default values won't be included in the response, only the values actually set."
   ]
  },
  {
   "cell_type": "markdown",
   "id": "7e214527-8f84-4d5c-a6ed-5de73c062c79",
   "metadata": {},
   "source": [
    "You can also use the path operation decorator parameters `response_model_include` and `response_model_exclude`."
   ]
  },
  {
   "cell_type": "code",
   "execution_count": null,
   "id": "c976f9f5-2333-4348-9750-ae1233e52ce1",
   "metadata": {},
   "outputs": [],
   "source": []
  }
 ],
 "metadata": {
  "kernelspec": {
   "display_name": "Python 3 (ipykernel)",
   "language": "python",
   "name": "python3"
  },
  "language_info": {
   "codemirror_mode": {
    "name": "ipython",
    "version": 3
   },
   "file_extension": ".py",
   "mimetype": "text/x-python",
   "name": "python",
   "nbconvert_exporter": "python",
   "pygments_lexer": "ipython3",
   "version": "3.12.4"
  }
 },
 "nbformat": 4,
 "nbformat_minor": 5
}
