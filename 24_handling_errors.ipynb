{
 "cells": [
  {
   "cell_type": "code",
   "execution_count": 4,
   "id": "23fe8ec3-98ec-4e47-ac77-7066dea9d79f",
   "metadata": {},
   "outputs": [],
   "source": [
    "from fastapi import FastAPI, HTTPException \n",
    "\n",
    "app = FastAPI() "
   ]
  },
  {
   "cell_type": "code",
   "execution_count": 2,
   "id": "5ceeac9f-eef9-4bab-9d8f-904e9651e00f",
   "metadata": {},
   "outputs": [],
   "source": [
    "\n",
    "items = {\"foo\": \"The foo Fighters\"} \n",
    "\n",
    "@app.get(\"/items/{item_id}\") \n",
    "async def read_item(items_id: str): \n",
    "    if item_id not in items: \n",
    "        raise HTTPException(status_code=404, detail=\"Item not foudn\") \n",
    "\n",
    "    return {\"item\": items[item_id]}"
   ]
  },
  {
   "cell_type": "markdown",
   "id": "ee0dadea-1d3d-4c7f-9f0a-d2e5928be546",
   "metadata": {},
   "source": [
    "## add custom headers "
   ]
  },
  {
   "cell_type": "code",
   "execution_count": 3,
   "id": "585eef27-e57c-4e89-9b4f-0d7a78096306",
   "metadata": {},
   "outputs": [],
   "source": [
    "@app.get(\"/items-header/{item_id}\")\n",
    "async def read_item_header(item_id: str): \n",
    "    if item_id not in items:\n",
    "        raise HTTPException( \n",
    "            status_code=404, \n",
    "            detail=\"Item not found\", \n",
    "            headers={\"X-Error\": \"there goes my error\"}\n",
    "        )\n",
    "    return {\"item\": items[item_id]}"
   ]
  },
  {
   "cell_type": "markdown",
   "id": "fa75f9fd-7d4a-405c-bfe6-3337b72b5659",
   "metadata": {},
   "source": [
    "Custom Exception Handlers\n",
    "\n",
    "- Create custom exceptions and handlers with @app.exception_handler()\n",
    "- Handler receives Request object and the exception\n",
    "- Return custom responses (JSONResponse, PlainTextResponse, etc.)\n"
   ]
  },
  {
   "cell_type": "code",
   "execution_count": null,
   "id": "5c330337-67ae-46ac-9917-3475b2a76a74",
   "metadata": {},
   "outputs": [],
   "source": []
  },
  {
   "cell_type": "code",
   "execution_count": null,
   "id": "d14ad9b2-8457-4150-9da5-54b74a5d6980",
   "metadata": {},
   "outputs": [],
   "source": []
  },
  {
   "cell_type": "code",
   "execution_count": null,
   "id": "c2be0481-5cb7-4245-b37a-e46cfe71cf64",
   "metadata": {},
   "outputs": [],
   "source": []
  },
  {
   "cell_type": "code",
   "execution_count": null,
   "id": "fd14a3a7-5e02-47f7-909e-a83f371bcea0",
   "metadata": {},
   "outputs": [],
   "source": []
  },
  {
   "cell_type": "code",
   "execution_count": null,
   "id": "e7916047-5565-4d8b-9911-bb80af7fa944",
   "metadata": {},
   "outputs": [],
   "source": []
  },
  {
   "cell_type": "code",
   "execution_count": null,
   "id": "27063bd9-7e03-4cd4-b698-c112c76d9e36",
   "metadata": {},
   "outputs": [],
   "source": []
  },
  {
   "cell_type": "code",
   "execution_count": null,
   "id": "4ea6bf12-4229-4a9b-9f6e-6f4896ef593c",
   "metadata": {},
   "outputs": [],
   "source": []
  },
  {
   "cell_type": "code",
   "execution_count": null,
   "id": "0070b971-bb7c-4ee0-9a4a-d7485aa899ac",
   "metadata": {},
   "outputs": [],
   "source": []
  },
  {
   "cell_type": "code",
   "execution_count": null,
   "id": "618c0728-b1f7-4c11-b569-946caee5f7ea",
   "metadata": {},
   "outputs": [],
   "source": []
  },
  {
   "cell_type": "code",
   "execution_count": null,
   "id": "de48b6cc-4c84-43bf-9690-107129351a62",
   "metadata": {},
   "outputs": [],
   "source": []
  }
 ],
 "metadata": {
  "kernelspec": {
   "display_name": "Python 3 (ipykernel)",
   "language": "python",
   "name": "python3"
  },
  "language_info": {
   "codemirror_mode": {
    "name": "ipython",
    "version": 3
   },
   "file_extension": ".py",
   "mimetype": "text/x-python",
   "name": "python",
   "nbconvert_exporter": "python",
   "pygments_lexer": "ipython3",
   "version": "3.12.4"
  }
 },
 "nbformat": 4,
 "nbformat_minor": 5
}
