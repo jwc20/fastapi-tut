{
 "cells": [
  {
   "cell_type": "markdown",
   "id": "0fb4b502-7e5f-425f-b004-f4e0e380b974",
   "metadata": {},
   "source": [
    "## Extra JSON Schema data in Pydantic models"
   ]
  },
  {
   "cell_type": "code",
   "execution_count": 2,
   "id": "601cc415-5c84-4ed0-8ede-85b04e67c3b0",
   "metadata": {},
   "outputs": [],
   "source": [
    "from fastapi import FastAPI\n",
    "from pydantic import BaseModel\n",
    "\n",
    "app = FastAPI()"
   ]
  },
  {
   "cell_type": "code",
   "execution_count": 3,
   "id": "3620aca4-ed37-4426-97b6-d95e444f326d",
   "metadata": {},
   "outputs": [],
   "source": [
    "class Item(BaseModel):\n",
    "    name: str\n",
    "    description: str | None = None\n",
    "    price: float\n",
    "    tax: float | None = None\n",
    "\n",
    "    model_config = {\n",
    "        \"json_schema_extra\": {\n",
    "            \"examples\": [\n",
    "                {\n",
    "                    \"name\": \"Foo\",\n",
    "                    \"description\": \"A very nice Item\",\n",
    "                    \"price\": 35.4,\n",
    "                    \"tax\": 3.2,\n",
    "                }\n",
    "            ]\n",
    "        }\n",
    "    }"
   ]
  },
  {
   "cell_type": "code",
   "execution_count": 5,
   "id": "a843f69e-7a40-41b3-9bc9-1c136a8e2752",
   "metadata": {},
   "outputs": [],
   "source": [
    "@app.put(\"/items/{item_id}\")\n",
    "async def update_item(item_id: int, item: Item):\n",
    "    results = {\"item_id\": item_id, \"item\": item}\n",
    "    return results"
   ]
  },
  {
   "cell_type": "code",
   "execution_count": null,
   "id": "52e771e4-baf3-4b3d-8582-6abe2dd1fef7",
   "metadata": {},
   "outputs": [],
   "source": []
  },
  {
   "cell_type": "markdown",
   "id": "0027b006-91d2-4df7-bc6a-205cfb0b1b83",
   "metadata": {},
   "source": [
    "## Field additional arguments"
   ]
  },
  {
   "cell_type": "code",
   "execution_count": 6,
   "id": "29f86fd3-cc7c-45d2-8c81-775990d07efd",
   "metadata": {},
   "outputs": [],
   "source": [
    "from fastapi import FastAPI\n",
    "from pydantic import BaseModel, Field\n",
    "\n",
    "app = FastAPI()"
   ]
  },
  {
   "cell_type": "code",
   "execution_count": 7,
   "id": "1055175e-78e5-48bc-8c11-d59e77b58178",
   "metadata": {},
   "outputs": [],
   "source": [
    "class Item(BaseModel):\n",
    "    name: str = Field(examples=[\"Foo\"])\n",
    "    description: str | None = Field(default=None, examples=[\"A very nice Item\"])\n",
    "    price: float = Field(examples=[35.4])\n",
    "    tax: float | None = Field(default=None, examples=[3.2])"
   ]
  },
  {
   "cell_type": "code",
   "execution_count": 8,
   "id": "96992e6e-5c1c-4c0f-a491-aa656b7b6006",
   "metadata": {},
   "outputs": [],
   "source": [
    "@app.put(\"/items/{item_id}\")\n",
    "async def update_item(item_id: int, item: Item):\n",
    "    results = {\"item_id\": item_id, \"item\": item}\n",
    "    return results\n"
   ]
  },
  {
   "cell_type": "code",
   "execution_count": null,
   "id": "bd7c97cc-6492-4a57-96c3-571de3f21e61",
   "metadata": {},
   "outputs": [],
   "source": []
  },
  {
   "cell_type": "markdown",
   "id": "4e642313-41a4-4e4e-bf5f-482fe0f73cc6",
   "metadata": {},
   "source": [
    "## examples in JSON Schema - OpenAPI"
   ]
  },
  {
   "cell_type": "markdown",
   "id": "d84950ab-a60d-46d8-aa1c-f0cc68a4bfbf",
   "metadata": {},
   "source": [
    "When using any of:\n",
    "\n",
    "- Path()\n",
    "- Query()\n",
    "- Header()\n",
    "- Cookie()\n",
    "- Body()\n",
    "- Form()\n",
    "- File()\n",
    "\n",
    "you can also declare a group of examples with additional information that will be added to their JSON Schemas inside of OpenAPI."
   ]
  },
  {
   "cell_type": "code",
   "execution_count": 9,
   "id": "10fc299a-6a4a-4756-97c5-9f5d89937889",
   "metadata": {},
   "outputs": [],
   "source": [
    "from typing import Annotated\n",
    "\n",
    "from fastapi import Body, FastAPI\n",
    "from pydantic import BaseModel\n",
    "\n",
    "app = FastAPI()"
   ]
  },
  {
   "cell_type": "code",
   "execution_count": 10,
   "id": "0e7ffdd2-a1e7-4dfe-81bd-b99c80e1e25f",
   "metadata": {},
   "outputs": [],
   "source": [
    "class Item(BaseModel):\n",
    "    name: str\n",
    "    description: str | None = None\n",
    "    price: float\n",
    "    tax: float | None = None"
   ]
  },
  {
   "cell_type": "code",
   "execution_count": 12,
   "id": "69a00edb-045b-4eab-875c-dbec1ec205b7",
   "metadata": {},
   "outputs": [],
   "source": [
    "@app.put(\"/items/{item_id}\")\n",
    "async def update_item(\n",
    "    item_id: int,\n",
    "    item: Annotated[\n",
    "        Item,\n",
    "        Body(\n",
    "            examples=[\n",
    "                {\n",
    "                    \"name\": \"Foo\",\n",
    "                    \"description\": \"A very nice Item\",\n",
    "                    \"price\": 35.4,\n",
    "                    \"tax\": 3.2,\n",
    "                }\n",
    "            ],\n",
    "        ),\n",
    "    ],\n",
    "):\n",
    "    results = {\"item_id\": item_id, \"item\": item}\n",
    "    return results\n"
   ]
  },
  {
   "cell_type": "markdown",
   "id": "f3aa34af-b8ec-4b1d-aea8-3e0c0b6e4844",
   "metadata": {},
   "source": [
    "## OpenAPI-specific examples"
   ]
  },
  {
   "cell_type": "code",
   "execution_count": 15,
   "id": "e5931747-6b6b-4588-aab1-b1ac85769f04",
   "metadata": {},
   "outputs": [],
   "source": [
    "@app.put(\"/items/{item_id}\")\n",
    "async def update_item(\n",
    "    *,\n",
    "    item_id: int,\n",
    "    item: Annotated[\n",
    "        Item,\n",
    "        Body(\n",
    "            openapi_examples={\n",
    "                \"normal\": {\n",
    "                    \"summary\": \"A normal example\",\n",
    "                    \"description\": \"A **normal** item works correctly.\",\n",
    "                    \"value\": {\n",
    "                        \"name\": \"Foo\",\n",
    "                        \"description\": \"A very nice Item\",\n",
    "                        \"price\": 35.4,\n",
    "                        \"tax\": 3.2,\n",
    "                    },\n",
    "                },\n",
    "                \"converted\": {\n",
    "                    \"summary\": \"An example with converted data\",\n",
    "                    \"description\": \"FastAPI can convert price `strings` to actual `numbers` automatically\",\n",
    "                    \"value\": {\n",
    "                        \"name\": \"Bar\",\n",
    "                        \"price\": \"35.4\",\n",
    "                    },\n",
    "                },\n",
    "                \"invalid\": {\n",
    "                    \"summary\": \"Invalid data is rejected with an error\",\n",
    "                    \"value\": {\n",
    "                        \"name\": \"Baz\",\n",
    "                        \"price\": \"thirty five point four\",\n",
    "                    },\n",
    "                },\n",
    "            },\n",
    "        ),\n",
    "    ],\n",
    "):\n",
    "    results = {\"item_id\": item_id, \"item\": item}\n",
    "    return results\n",
    "    "
   ]
  }
 ],
 "metadata": {
  "kernelspec": {
   "display_name": "Python 3 (ipykernel)",
   "language": "python",
   "name": "python3"
  },
  "language_info": {
   "codemirror_mode": {
    "name": "ipython",
    "version": 3
   },
   "file_extension": ".py",
   "mimetype": "text/x-python",
   "name": "python",
   "nbconvert_exporter": "python",
   "pygments_lexer": "ipython3",
   "version": "3.12.4"
  }
 },
 "nbformat": 4,
 "nbformat_minor": 5
}
