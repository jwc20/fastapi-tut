{
 "cells": [
  {
   "cell_type": "markdown",
   "id": "ba44b60e-2c88-4435-9717-e27a1adfb0cd",
   "metadata": {},
   "source": [
    "## Cookie Parameters "
   ]
  },
  {
   "cell_type": "code",
   "execution_count": 5,
   "id": "c6e07dde-415f-41e3-a688-90fb6ed05944",
   "metadata": {},
   "outputs": [],
   "source": [
    "from typing import Annotated\n",
    "\n",
    "from fastapi import Cookie, FastAPI\n",
    "\n",
    "app = FastAPI()"
   ]
  },
  {
   "cell_type": "code",
   "execution_count": 6,
   "id": "8d51d548-ef7c-402a-8495-5dce8e07ceaa",
   "metadata": {},
   "outputs": [],
   "source": [
    "@app.get(\"/items/\")\n",
    "async def read_items(ads_id: Annotated[str | None, Cookie()] = None):\n",
    "    return {\"ads_id\": ads_id}"
   ]
  },
  {
   "cell_type": "markdown",
   "id": "9782cbf6-34ce-47f0-9668-60b04344e220",
   "metadata": {},
   "source": [
    "## Cookie Parameter Models\n",
    "\n",
    "We can create Pydantic model to declare a group of cookies that are related\n",
    "\n",
    "Benefits:\n",
    "\n",
    "- re-use the declared model\n",
    "- declare validation\n",
    "- add metadata"
   ]
  },
  {
   "cell_type": "code",
   "execution_count": 7,
   "id": "dc8ccc98-3d8a-4569-9053-2eb50814b129",
   "metadata": {},
   "outputs": [],
   "source": [
    "from pydantic import BaseModel"
   ]
  },
  {
   "cell_type": "code",
   "execution_count": 8,
   "id": "d09d795c-6216-4ed3-a4ad-7c06ff9e9adb",
   "metadata": {},
   "outputs": [],
   "source": [
    "class Cookies(BaseModel):\n",
    "    session_id: str \n",
    "    fatebook_tracker: str | None = None\n",
    "    googall_tracker: str | None = None"
   ]
  },
  {
   "cell_type": "code",
   "execution_count": 9,
   "id": "bcf1fcbd-1a65-4f8d-b582-8d6b73eeacf1",
   "metadata": {},
   "outputs": [],
   "source": [
    "@app.get(\"/items/\")\n",
    "async def read_items(cookies: Annotated[Cookies, Cookie()]):\n",
    "    return cookies"
   ]
  },
  {
   "cell_type": "markdown",
   "id": "b93b466a-e6cb-45d7-88ff-a1eccb1d4915",
   "metadata": {},
   "source": [
    "### Forbid extra cookies\n",
    "\n",
    "(not very common use case)\n",
    "\n",
    "\n",
    "- You can use Pydantic's model configuration to `forbid` any `extra` fields\n",
    "- If a client tries to send some extra cookies, they will receive an error response."
   ]
  },
  {
   "cell_type": "code",
   "execution_count": 10,
   "id": "88e4ff3b-cfe1-4125-b131-c21202766f9a",
   "metadata": {},
   "outputs": [],
   "source": [
    "class Cookies(BaseModel):\n",
    "    model_config = {\"extra\": \"forbid\"}\n",
    "    \n",
    "    session_id: str \n",
    "    fatebook_tracker: str | None = None\n",
    "    googall_tracker: str | None = None"
   ]
  },
  {
   "cell_type": "code",
   "execution_count": null,
   "id": "37980887-a79c-4cbd-b2a9-bad7e7bd9380",
   "metadata": {},
   "outputs": [],
   "source": []
  },
  {
   "cell_type": "code",
   "execution_count": null,
   "id": "aead046a-793d-441d-8ca0-3dd4e78638c8",
   "metadata": {},
   "outputs": [],
   "source": []
  },
  {
   "cell_type": "code",
   "execution_count": null,
   "id": "72bac5a7-4635-4afd-bb63-a8f643e90e19",
   "metadata": {},
   "outputs": [],
   "source": []
  },
  {
   "cell_type": "code",
   "execution_count": null,
   "id": "14de3311-738e-4784-a523-5185d3979fe1",
   "metadata": {},
   "outputs": [],
   "source": []
  },
  {
   "cell_type": "code",
   "execution_count": null,
   "id": "5e758cde-cf94-4ffc-8d0c-76aa1d705e7e",
   "metadata": {},
   "outputs": [],
   "source": []
  },
  {
   "cell_type": "code",
   "execution_count": null,
   "id": "aaeee5e4-88b4-484e-9d35-edfbc049ff46",
   "metadata": {},
   "outputs": [],
   "source": []
  },
  {
   "cell_type": "markdown",
   "id": "ee68530c-c1e5-4b73-af57-8de7cf496f56",
   "metadata": {},
   "source": [
    "## Header Parameters"
   ]
  },
  {
   "cell_type": "code",
   "execution_count": 3,
   "id": "8510afa5-7fa9-4fac-8924-a66ecc624765",
   "metadata": {},
   "outputs": [],
   "source": [
    "from fastapi import FastAPI, Header"
   ]
  },
  {
   "cell_type": "code",
   "execution_count": 4,
   "id": "59556a3b-e49e-4b71-b60e-21f66c6b6fad",
   "metadata": {},
   "outputs": [],
   "source": [
    "@app.get(\"/items/\")\n",
    "async def read_items(user_agent: Annotated[str | None, Header()] = None):\n",
    "    return {\"User-Agent\": user_agent}"
   ]
  },
  {
   "cell_type": "markdown",
   "id": "6757beba-b22b-489c-8d5a-3424d5a8c86a",
   "metadata": {},
   "source": [
    "FastAPI's Header function automatically converts underscores to hyphens in parameter names (e.g., user_agent becomes user-agent) and handles case-insensitive HTTP headers using Python snake_case. You can disable this automatic conversion by setting convert_underscores=False if needed."
   ]
  },
  {
   "cell_type": "code",
   "execution_count": 5,
   "id": "d2edb0bb-eb8a-469c-bffa-06979f872d52",
   "metadata": {},
   "outputs": [],
   "source": [
    "@app.get(\"/items/\")\n",
    "async def read_items(\n",
    "    strange_header: Annotated[str | None, Header(convert_underscores=False)] = None,\n",
    "):\n",
    "    return {\"strange_header\": strange_header}"
   ]
  },
  {
   "cell_type": "code",
   "execution_count": null,
   "id": "0f16d79c-c7bc-4e28-9686-41d06d7dcf79",
   "metadata": {},
   "outputs": [],
   "source": []
  },
  {
   "cell_type": "markdown",
   "id": "686a9c88-e2e5-44bb-a123-fc1b6379dd58",
   "metadata": {},
   "source": [
    "Duplicate headers\n",
    "\n",
    "It is possible to receive duplicate headers. That means, the same header with multiple values.\n",
    "\n",
    "You can define those cases using a list in the type declaration.\n",
    "\n",
    "You will receive all the values from the duplicate header as a Python list.\n",
    "\n",
    "For example, to declare a header of X-Token that can appear more than once, you can write:\n",
    "\n"
   ]
  },
  {
   "cell_type": "code",
   "execution_count": 6,
   "id": "bd46fe0a-e1ac-401c-ac4d-42f64cd656b2",
   "metadata": {},
   "outputs": [],
   "source": [
    "@app.get(\"/items/\")\n",
    "async def read_items(x_token: Annotated[list[str] | None, Header()] = None):\n",
    "    return {\"X-Token values\": x_token}"
   ]
  },
  {
   "cell_type": "markdown",
   "id": "1c9da7d5-b2e0-4d95-906e-f5b1f30b16c7",
   "metadata": {},
   "source": [
    "## Header Parameter Models"
   ]
  },
  {
   "cell_type": "code",
   "execution_count": 14,
   "id": "5b5e82e1-3eff-40ef-b1cf-865b3af74154",
   "metadata": {},
   "outputs": [],
   "source": [
    "from fastapi import Header"
   ]
  },
  {
   "cell_type": "code",
   "execution_count": 15,
   "id": "f00d3a15-f825-478b-82dc-27790770c46b",
   "metadata": {},
   "outputs": [],
   "source": [
    "class CommonHeaders(BaseModel): \n",
    "    host: str \n",
    "    save_data: bool \n",
    "    if_modified_since: str | None = None \n",
    "    traceparent: str | None = None \n",
    "    x_tag: list[str] = []"
   ]
  },
  {
   "cell_type": "code",
   "execution_count": 16,
   "id": "9b639f47-83e8-43b7-8f3d-068ef43a9dd4",
   "metadata": {},
   "outputs": [],
   "source": [
    "@app.get(\"/items/\")\n",
    "async def read_items(headers: Annotated[CommonHeaders, Header()]): \n",
    "    return headers "
   ]
  },
  {
   "cell_type": "code",
   "execution_count": null,
   "id": "37d22b67-821e-45c6-82ed-d0290d760bfd",
   "metadata": {},
   "outputs": [],
   "source": []
  },
  {
   "cell_type": "markdown",
   "id": "993a7d74-04f6-4647-b814-11468e629819",
   "metadata": {},
   "source": [
    "### Forbid extra headers"
   ]
  },
  {
   "cell_type": "code",
   "execution_count": 18,
   "id": "6ef7a202-f3e5-4bb9-912c-2dcb0bddf7e5",
   "metadata": {},
   "outputs": [],
   "source": [
    "class CommonHeaders(BaseModel):\n",
    "    model_config = {\"extra\": \"forbid\"}\n",
    "\n",
    "    host: str\n",
    "    save_data: bool\n",
    "    if_modified_since: str | None = None\n",
    "    traceparent: str | None = None\n",
    "    x_tag: list[str] = []"
   ]
  },
  {
   "cell_type": "markdown",
   "id": "01226043-65b3-4840-b74d-6b81454266cc",
   "metadata": {},
   "source": [
    "### disable convert underscore\n",
    "\n",
    "The same way as with regular header parameters, when you have underscore characters in the parameter names, they are automatically converted to hyphens."
   ]
  },
  {
   "cell_type": "code",
   "execution_count": 19,
   "id": "76212228-fe2e-4126-bc60-bbd416b2268e",
   "metadata": {},
   "outputs": [],
   "source": [
    "@app.get(\"/items/\")\n",
    "async def read_items(\n",
    "    headers: Annotated[CommonHeaders, Header(convert_underscores=False)]\n",
    "):\n",
    "    return headers"
   ]
  },
  {
   "cell_type": "code",
   "execution_count": null,
   "id": "1a9b8d55-9b3b-4c13-9c0a-d4eff9653caa",
   "metadata": {},
   "outputs": [],
   "source": []
  }
 ],
 "metadata": {
  "kernelspec": {
   "display_name": "Python 3 (ipykernel)",
   "language": "python",
   "name": "python3"
  },
  "language_info": {
   "codemirror_mode": {
    "name": "ipython",
    "version": 3
   },
   "file_extension": ".py",
   "mimetype": "text/x-python",
   "name": "python",
   "nbconvert_exporter": "python",
   "pygments_lexer": "ipython3",
   "version": "3.12.4"
  }
 },
 "nbformat": 4,
 "nbformat_minor": 5
}
