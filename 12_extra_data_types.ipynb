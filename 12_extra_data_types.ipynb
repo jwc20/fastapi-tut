{
 "cells": [
  {
   "cell_type": "markdown",
   "id": "3f83cbfc-e66f-4525-871b-aceb8846af9e",
   "metadata": {},
   "source": [
    "\n",
    "we have used:\n",
    "\n",
    "- int\n",
    "- float\n",
    "- str\n",
    "- bool\n",
    "\n",
    "other data types:\n",
    "\n",
    "- UUID\n",
    "- datetime.datetime\n",
    "- datetime.date\n",
    "- datetime.time\n",
    "- datetime.timedelta\n",
    "- frozenset\n",
    "- bytes\n",
    "- Decimal\n"
   ]
  },
  {
   "cell_type": "code",
   "execution_count": null,
   "id": "1e074294-a15c-453d-9c6d-fddafc516a1e",
   "metadata": {},
   "outputs": [],
   "source": []
  },
  {
   "cell_type": "code",
   "execution_count": 1,
   "id": "f63c0e21-ce2f-441e-a796-1fe237e887ca",
   "metadata": {},
   "outputs": [],
   "source": [
    "from datetime import datetime, time, timedelta\n",
    "from typing import Annotated\n",
    "from uuid import UUID \n",
    "\n",
    "from fastapi import Body, FastAPI\n",
    "\n",
    "app = FastAPI()"
   ]
  },
  {
   "cell_type": "code",
   "execution_count": 4,
   "id": "c3e202c2-d02c-4c21-aedd-5280353e8296",
   "metadata": {},
   "outputs": [],
   "source": [
    "@app.put(\"/items/{item_id}\")\n",
    "async def read_items(\n",
    "    item_id: UUID,\n",
    "    start_datetime: Annotated[datetime, Body()],\n",
    "    end_datetime: Annotated[datetime, Body()],\n",
    "    process_after: Annotated[timedelta, Body()],\n",
    "    repeat_at: Annotated[time | None, Body()] = None,\n",
    "):\n",
    "    start_process = start_datetime + process_after\n",
    "    duration = end_datetime - start_process \n",
    "    \n",
    "    return {\n",
    "        \"item_id\": item_id,\n",
    "        \"start_datetime\": start_datetime,\n",
    "        \"end_datetime\": end_datetime,\n",
    "        \"process_after\": process_after,\n",
    "        \"repeat_at\": repeat_at,\n",
    "        \"start_process\": start_process,\n",
    "        \"duration\": duration,\n",
    "    }\n",
    "    "
   ]
  },
  {
   "cell_type": "code",
   "execution_count": null,
   "id": "297baca5-4127-4a67-91bd-5a10772caa21",
   "metadata": {},
   "outputs": [],
   "source": []
  },
  {
   "cell_type": "code",
   "execution_count": null,
   "id": "3987d741-1128-42c1-a6ec-df341bdfb095",
   "metadata": {},
   "outputs": [],
   "source": []
  },
  {
   "cell_type": "code",
   "execution_count": null,
   "id": "c3c1fedc-1783-4fa9-b4db-1302d7cae4ae",
   "metadata": {},
   "outputs": [],
   "source": []
  },
  {
   "cell_type": "code",
   "execution_count": null,
   "id": "1be36492-41de-4cef-84f5-9677abc529d0",
   "metadata": {},
   "outputs": [],
   "source": []
  },
  {
   "cell_type": "code",
   "execution_count": null,
   "id": "072e53eb-a56b-4072-a3b2-e41882af8eca",
   "metadata": {},
   "outputs": [],
   "source": []
  }
 ],
 "metadata": {
  "kernelspec": {
   "display_name": "Python 3 (ipykernel)",
   "language": "python",
   "name": "python3"
  },
  "language_info": {
   "codemirror_mode": {
    "name": "ipython",
    "version": 3
   },
   "file_extension": ".py",
   "mimetype": "text/x-python",
   "name": "python",
   "nbconvert_exporter": "python",
   "pygments_lexer": "ipython3",
   "version": "3.12.4"
  }
 },
 "nbformat": 4,
 "nbformat_minor": 5
}
