{
 "cells": [
  {
   "cell_type": "markdown",
   "id": "160da647-2603-4a98-a8d7-ea3aeff757c2",
   "metadata": {},
   "source": [
    "# Path Operation Configuration\n",
    "\n",
    "There are several parameters that you can pass to your path operation decorator to configure it."
   ]
  },
  {
   "cell_type": "markdown",
   "id": "bfb671ee-1b24-4312-ba37-39f57390e50d",
   "metadata": {},
   "source": [
    "- Response Status Code\n",
    "- tags\n",
    "- tags with enums \n",
    "- summary and description\n",
    "- docstring descriptions\n",
    "- response description\n",
    "- deprecation"
   ]
  },
  {
   "cell_type": "code",
   "execution_count": 8,
   "id": "bfde0fa9-4210-46db-925e-0143c20b1ac1",
   "metadata": {},
   "outputs": [],
   "source": [
    "from fastapi import FastAPI, status\n",
    "from pydantic import BaseModel\n",
    "from enum import Enum\n",
    "\n",
    "app = FastAPI()\n",
    "\n",
    "class Item(BaseModel):\n",
    "    name: str\n",
    "    description: str | None = None\n",
    "    price: float\n",
    "    tax: float | None = None\n",
    "\n",
    "    model_config = {\n",
    "        \"json_schema_extra\": {\n",
    "            \"examples\": [\n",
    "                {\n",
    "                    \"name\": \"Foo\",\n",
    "                    \"description\": \"A very nice Item\",\n",
    "                    \"price\": 35.4,\n",
    "                    \"tax\": 3.2,\n",
    "                }\n",
    "            ]\n",
    "        }\n",
    "    }\n",
    "\n",
    "\n",
    "@app.post(\n",
    "    \"/items/\",\n",
    "    response_model=Item,\n",
    "    status_code=status.HTTP_201_CREATED,\n",
    "    tags=[\"items\"],\n",
    "    summary=\"Create an item\",\n",
    "    description=\"Create an item with all information\",\n",
    "    response_description=\"The created item\",\n",
    "    deprecated=False\n",
    ")\n",
    "async def create_item(item: Item):\n",
    "    \"\"\"\n",
    "    Alternative: This docstring becomes the description\n",
    "    if description parameter is not provided.\n",
    "    \n",
    "    Supports **Markdown** formatting.\n",
    "    \"\"\"\n",
    "\n",
    "    return item"
   ]
  },
  {
   "cell_type": "code",
   "execution_count": null,
   "id": "b52e0378-c949-44c7-8258-27ea1d08f910",
   "metadata": {},
   "outputs": [],
   "source": []
  },
  {
   "cell_type": "code",
   "execution_count": null,
   "id": "cb3ce7b6-0f92-458c-98eb-8855a8280c0d",
   "metadata": {},
   "outputs": [],
   "source": []
  },
  {
   "cell_type": "code",
   "execution_count": null,
   "id": "9bb77f51-dc08-4e49-b96a-e864bd516ff3",
   "metadata": {},
   "outputs": [],
   "source": []
  },
  {
   "cell_type": "code",
   "execution_count": null,
   "id": "90d493bc-ebf3-4713-8883-5ea44fd28a4b",
   "metadata": {},
   "outputs": [],
   "source": []
  },
  {
   "cell_type": "markdown",
   "id": "83df8608-7834-4a53-a6ef-bc11ab8b18ee",
   "metadata": {},
   "source": [
    "#### tags with enum"
   ]
  },
  {
   "cell_type": "code",
   "execution_count": 9,
   "id": "443e0f68-826f-4df1-ae1c-9473809d984f",
   "metadata": {},
   "outputs": [],
   "source": [
    "from enum import Enum\n",
    "\n",
    "from fastapi import FastAPI\n",
    "\n",
    "app = FastAPI()\n",
    "\n",
    "\n",
    "class Tags(Enum):\n",
    "    items = \"items\"\n",
    "    users = \"users\"\n",
    "\n",
    "\n",
    "@app.get(\"/items/\", tags=[Tags.items])\n",
    "async def get_items():\n",
    "    return [\"Portal gun\", \"Plumbus\"]\n",
    "\n",
    "\n",
    "@app.get(\"/users/\", tags=[Tags.users])\n",
    "async def read_users():\n",
    "    return [\"Rick\", \"Morty\"]"
   ]
  },
  {
   "cell_type": "code",
   "execution_count": null,
   "id": "0a87d6cf-5c91-46b7-b2a8-55f96dd52bee",
   "metadata": {},
   "outputs": [],
   "source": []
  }
 ],
 "metadata": {
  "kernelspec": {
   "display_name": "Python 3 (ipykernel)",
   "language": "python",
   "name": "python3"
  },
  "language_info": {
   "codemirror_mode": {
    "name": "ipython",
    "version": 3
   },
   "file_extension": ".py",
   "mimetype": "text/x-python",
   "name": "python",
   "nbconvert_exporter": "python",
   "pygments_lexer": "ipython3",
   "version": "3.12.4"
  }
 },
 "nbformat": 4,
 "nbformat_minor": 5
}
