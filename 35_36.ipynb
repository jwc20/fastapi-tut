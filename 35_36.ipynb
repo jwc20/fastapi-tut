{
 "cells": [
  {
   "cell_type": "markdown",
   "id": "08c31fbc",
   "metadata": {},
   "source": [
    "# security\n"
   ]
  },
  {
   "cell_type": "markdown",
   "id": "fda2991f",
   "metadata": {},
   "source": [
    "- Security - First Steps\n",
    "- Get Current User\n",
    "- Simple OAuth2 with Password and Bearer\n",
    "- OAuth2 with Password (and hashing), Bearer with JWT tokens"
   ]
  },
  {
   "cell_type": "markdown",
   "id": "86518f11",
   "metadata": {},
   "source": [
    "1. OAuth2 \n",
    "2. OAuth1\n",
    "3. OpenID Connect\n",
    "3. OpenID"
   ]
  },
  {
   "cell_type": "markdown",
   "id": "5ae19d16",
   "metadata": {},
   "source": [
    "OpenAPI defines the following security schemes:\n",
    "\n",
    "- `apiKey`\n",
    "- `http` \n",
    "- `oauth2` \n",
    "- `openIdConnect`"
   ]
  },
  {
   "cell_type": "markdown",
   "id": "eeed8e38",
   "metadata": {},
   "source": [
    "## Security - First Steps"
   ]
  },
  {
   "cell_type": "code",
   "execution_count": 1,
   "id": "3296b45b",
   "metadata": {},
   "outputs": [],
   "source": [
    "from typing import Annotated\n",
    "\n",
    "from fastapi import Depends, FastAPI\n",
    "from fastapi.security import OAuth2PasswordBearer\n",
    "\n",
    "app = FastAPI()\n",
    "\n",
    "oauth2_scheme = OAuth2PasswordBearer(tokenUrl=\"token\")\n",
    "\n",
    "\n",
    "@app.get(\"/items/\")\n",
    "async def read_items(token: Annotated[str, Depends(oauth2_scheme)]):\n",
    "    return {\"token\": token}"
   ]
  },
  {
   "cell_type": "markdown",
   "id": "ee7d123e",
   "metadata": {},
   "source": [
    "• **OAuth2PasswordBearer** creates a security scheme that looks for `Authorization: Bearer <token>` headers in requests\n",
    "\n",
    "• **Token flow process**: Frontend sends username/password to `/token` endpoint → API returns token → Frontend includes token in `Authorization` header for subsequent requests\n",
    "\n",
    "• **FastAPI integration**: OAuth2PasswordBearer automatically integrates with OpenAPI docs, adding an \"Authorize\" button and lock icons\n",
    "\n",
    "• **Automatic validation**: The dependency automatically returns 401 UNAUTHORIZED if no valid Bearer token is found in the request header\n",
    "\n",
    "• **Simple setup**: Just create `oauth2_scheme = OAuth2PasswordBearer(tokenUrl=\"token\")` and use it as a dependency with `Depends(oauth2_scheme)`\n",
    "\n",
    "• **Token parameter**: The dependency extracts and returns the token as a string to your path operation function"
   ]
  },
  {
   "cell_type": "markdown",
   "id": "825c8d7f",
   "metadata": {},
   "source": [
    "## Get Current User"
   ]
  },
  {
   "cell_type": "code",
   "execution_count": 3,
   "id": "8163acdf",
   "metadata": {},
   "outputs": [],
   "source": [
    "# make it give us the current user\n",
    "\n",
    "from typing import Annotated \n",
    "\n",
    "from fastapi import Depends, FastAPI \n",
    "from fastapi.security import OAuth2PasswordBearer\n",
    "from pydantic import BaseModel \n",
    "\n",
    "app = FastAPI() \n",
    "\n",
    "oauth2_scheme = OAuth2PasswordBearer(tokenUrl=\"token\")\n",
    "\n",
    "\n",
    "class User(BaseModel):\n",
    "    username : str \n",
    "    email: str | None = None \n",
    "    full_name: str | None = None \n",
    "    disabled: bool | None = None \n",
    "\n",
    "def fake_decode_token(token):\n",
    "    return User(\n",
    "        username=token + \"fakedecoded\", email=\"john@example.com\", full_name=\"John Doe\"\n",
    "    )\n",
    "\n",
    "async def get_current_user(token: Annotated[str, Depends(oauth2_scheme)]):\n",
    "    user = fake_decode_token(token)\n",
    "    return user\n",
    "\n",
    "@app.get(\"/user/me\")\n",
    "async def read_user_me(current_user: Annotated[User, Depends(get_current_user)]):\n",
    "    return current_user\n"
   ]
  },
  {
   "cell_type": "markdown",
   "id": "ff0f202d",
   "metadata": {},
   "source": [
    "## Simple OAuth2 with Password and Bearer\n"
   ]
  },
  {
   "cell_type": "code",
   "execution_count": null,
   "id": "7cb9c739",
   "metadata": {},
   "outputs": [],
   "source": []
  },
  {
   "cell_type": "markdown",
   "id": "c95ebef6",
   "metadata": {},
   "source": [
    "## OAuth2 with Password (and hashing), Bearer with JWT tokens\n"
   ]
  },
  {
   "cell_type": "markdown",
   "id": "3c83acac",
   "metadata": {},
   "source": []
  }
 ],
 "metadata": {
  "kernelspec": {
   "display_name": "Python 3 (ipykernel)",
   "language": "python",
   "name": "python3"
  },
  "language_info": {
   "codemirror_mode": {
    "name": "ipython",
    "version": 3
   },
   "file_extension": ".py",
   "mimetype": "text/x-python",
   "name": "python",
   "nbconvert_exporter": "python",
   "pygments_lexer": "ipython3",
   "version": "3.12.4"
  }
 },
 "nbformat": 4,
 "nbformat_minor": 5
}
