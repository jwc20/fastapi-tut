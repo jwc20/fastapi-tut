{
 "cells": [
  {
   "cell_type": "markdown",
   "id": "fad7c922-b2b0-4d67-ab92-3dbab1e84ff1",
   "metadata": {},
   "source": [
    "# JSON Compatible Encoder "
   ]
  },
  {
   "cell_type": "markdown",
   "id": "7a97ede2-e535-4f0d-98e8-3b4210976d0a",
   "metadata": {},
   "source": [
    "want:\n",
    "- convert a data type like Pydantic model to something compatible with json (like dict, list) \n",
    "    - ex. store in database\n",
    " \n",
    "- we can use the fastAPI `jsonable_encoder()` function"
   ]
  },
  {
   "cell_type": "code",
   "execution_count": 1,
   "id": "5cfb9788-3c25-4565-856f-86a80ccd9bae",
   "metadata": {},
   "outputs": [],
   "source": [
    "from datetime import datetime \n",
    "\n",
    "from fastapi import FastAPI \n",
    "from fastapi.encoders import jsonable_encoder \n",
    "from pydantic import BaseModel \n",
    "\n",
    "fake_db = {} \n",
    "\n",
    "class Item(BaseModel): \n",
    "    title: str \n",
    "    timestamp: datetime \n",
    "    description: str | None = None \n",
    "\n",
    "\n",
    "app = FastAPI() \n",
    "\n",
    "\n",
    "@app.put(\"/items/{item_id}\")\n",
    "async def update_item(id: str, item: Item):\n",
    "    json_compatible_item_data = jsonable_encoder(item)\n",
    "    fake_db[id] = json_compatible_item_data"
   ]
  },
  {
   "cell_type": "code",
   "execution_count": null,
   "id": "968dffe5-a822-4aaa-a5c5-13be5a17f5dd",
   "metadata": {},
   "outputs": [],
   "source": []
  }
 ],
 "metadata": {
  "kernelspec": {
   "display_name": "Python 3 (ipykernel)",
   "language": "python",
   "name": "python3"
  },
  "language_info": {
   "codemirror_mode": {
    "name": "ipython",
    "version": 3
   },
   "file_extension": ".py",
   "mimetype": "text/x-python",
   "name": "python",
   "nbconvert_exporter": "python",
   "pygments_lexer": "ipython3",
   "version": "3.12.4"
  }
 },
 "nbformat": 4,
 "nbformat_minor": 5
}
