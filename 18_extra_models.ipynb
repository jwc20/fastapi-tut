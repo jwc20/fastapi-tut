{
 "cells": [
  {
   "cell_type": "markdown",
   "id": "7e8b5272-7075-4c53-b435-abe483b6de36",
   "metadata": {},
   "source": [
    "Continuing with the previous example, it will be common to have more than one related model.\n",
    "\n",
    "This is especially the case for user models, because:\n",
    "\n",
    "- The `input model` needs to be able to have a password.\n",
    "- The `output model` should not have a password.\n",
    "- The `database model` would probably need to have a hashed password."
   ]
  },
  {
   "cell_type": "markdown",
   "id": "65b0ed0a-d78a-4c9d-a87b-066815ca6479",
   "metadata": {},
   "source": [
    "### Multiple models"
   ]
  },
  {
   "cell_type": "code",
   "execution_count": 3,
   "id": "da1532bc-b983-4c00-9ba0-0b1c481e031e",
   "metadata": {},
   "outputs": [],
   "source": [
    "from fastapi import FastAPI\n",
    "from pydantic import BaseModel, EmailStr\n",
    "\n",
    "app = FastAPI()"
   ]
  },
  {
   "cell_type": "code",
   "execution_count": 5,
   "id": "671088ec-5623-4896-b8fb-387069088d65",
   "metadata": {},
   "outputs": [],
   "source": [
    "class UserIn(BaseModel): \n",
    "    username: str \n",
    "    password: str \n",
    "    email: EmailStr \n",
    "    full_name: str | None = None\n",
    "\n",
    "class UserOut(BaseModel):\n",
    "    username: str \n",
    "    email: EmailStr \n",
    "    full_name: str | None = None \n",
    "\n",
    "class UserInDB(BaseModel): \n",
    "    username: str \n",
    "    hashed_password: str \n",
    "    email: EmailStr \n",
    "    full_name: str | None = None"
   ]
  },
  {
   "cell_type": "code",
   "execution_count": 6,
   "id": "d7c7a21a-45da-4ece-94d6-e9623c50eeb4",
   "metadata": {},
   "outputs": [],
   "source": [
    "def fake_password_hasher(raw_password: str): \n",
    "    return \"supersecret\" + raw_password"
   ]
  },
  {
   "cell_type": "code",
   "execution_count": 9,
   "id": "12ba7520-125e-4bb0-871a-2cc845674a30",
   "metadata": {},
   "outputs": [],
   "source": [
    "def fake_save_user(user_in: UserIn): \n",
    "    hashed_password = fake_password_hasher(user_in.password) \n",
    "    # user_in_db = UserInDB(**user_in.dict(), hashed_password=hashed_password) \n",
    "    user_in_db = UserInDB(**user_in.model_dump(), hashed_password=hashed_password) \n",
    "    return user_in_db"
   ]
  },
  {
   "cell_type": "code",
   "execution_count": 10,
   "id": "cbc257ad-03e2-4efd-9d07-3ae10712922e",
   "metadata": {},
   "outputs": [],
   "source": [
    "@app.post(\"/user/\", response_model=UserOut) \n",
    "async def create_user(user_in: UserIn): \n",
    "    user_saved = fake_save_user(user_in)\n",
    "    return user_saved"
   ]
  },
  {
   "cell_type": "markdown",
   "id": "bf7e5d6b-0e83-425f-bd68-ee5aa70b9392",
   "metadata": {},
   "source": [
    "#### Unpacking a `dict` "
   ]
  },
  {
   "cell_type": "markdown",
   "id": "c98fabbe-9ba8-4e5e-962c-2753777ec445",
   "metadata": {},
   "source": [
    "`UserInDB(**user_dict)` is equivalent to: \n",
    "\n",
    "```python\n",
    "UserInDB(\n",
    "    username=\"john\",\n",
    "    password=\"secret\",\n",
    "    email=\"john.doe@example.com\",\n",
    "    full_name=None,\n",
    ")\n",
    "```\n",
    "\n",
    "Or more exactly, using user_dict directly, with whatever contents it might have in the future:\n",
    "\n",
    "```python \n",
    "UserInDB(\n",
    "    username = user_dict[\"username\"],\n",
    "    password = user_dict[\"password\"],\n",
    "    email = user_dict[\"email\"],\n",
    "    full_name = user_dict[\"full_name\"],\n",
    ")\n",
    "```"
   ]
  },
  {
   "cell_type": "code",
   "execution_count": null,
   "id": "9827dbd3-38fa-47e0-85b4-9aeaf511bcce",
   "metadata": {},
   "outputs": [],
   "source": []
  },
  {
   "cell_type": "markdown",
   "id": "ee25b615-c729-45e8-b588-e86d7a03da62",
   "metadata": {},
   "source": [
    "## Reduce duplication \n",
    "\n",
    "refactoring above to avoid duplicate code "
   ]
  },
  {
   "cell_type": "code",
   "execution_count": 11,
   "id": "96e9a8ab-87fa-40fd-9ce1-97a88a51b73e",
   "metadata": {},
   "outputs": [],
   "source": [
    "class UserBase(BaseModel): \n",
    "    username: str \n",
    "    email: EmailStr \n",
    "    full_name: str | None = None \n",
    "\n",
    "class UserIn(UserBase): \n",
    "    password: str \n",
    "\n",
    "class UserOut(UserBase): \n",
    "    pass \n",
    "\n",
    "class UserInDB(UserBase): \n",
    "    hashed_password: str \n"
   ]
  },
  {
   "cell_type": "code",
   "execution_count": 12,
   "id": "4faa7457-5daf-483c-8d57-efd84524cdc6",
   "metadata": {},
   "outputs": [],
   "source": [
    "def fake_password_hasher(raw_password: str):\n",
    "    return \"supersecret\" + raw_password\n",
    "\n",
    "\n",
    "def fake_save_user(user_in: UserIn):\n",
    "    hashed_password = fake_password_hasher(user_in.password)\n",
    "    user_in_db = UserInDB(**user_in.dict(), hashed_password=hashed_password)\n",
    "    print(\"User saved! ..not really\")\n",
    "    return user_in_db\n",
    "\n",
    "\n",
    "@app.post(\"/user/\", response_model=UserOut)\n",
    "async def create_user(user_in: UserIn):\n",
    "    user_saved = fake_save_user(user_in)\n",
    "    return user_saved"
   ]
  },
  {
   "cell_type": "code",
   "execution_count": null,
   "id": "0f846fb0-f601-4fdd-bac8-b2491e1d1607",
   "metadata": {},
   "outputs": [],
   "source": []
  },
  {
   "cell_type": "code",
   "execution_count": null,
   "id": "0d038766-3847-4b59-8a61-37075160ea52",
   "metadata": {},
   "outputs": [],
   "source": []
  },
  {
   "cell_type": "code",
   "execution_count": null,
   "id": "a97315ed-f8e8-47a6-9009-9a6a9914e550",
   "metadata": {},
   "outputs": [],
   "source": []
  },
  {
   "cell_type": "markdown",
   "id": "941e530a-31ba-48f1-b8b6-f484375aabd7",
   "metadata": {},
   "source": [
    "### `Union` or `anyOf`"
   ]
  },
  {
   "cell_type": "code",
   "execution_count": 13,
   "id": "c539f08d-7d29-4934-8196-e38995736535",
   "metadata": {},
   "outputs": [],
   "source": [
    "from typing import Union\n",
    "\n",
    "from fastapi import FastAPI\n",
    "from pydantic import BaseModel\n",
    "\n",
    "app = FastAPI()\n",
    "\n",
    "\n",
    "class BaseItem(BaseModel):\n",
    "    description: str\n",
    "    type: str\n",
    "\n",
    "\n",
    "class CarItem(BaseItem):\n",
    "    type: str = \"car\"\n",
    "\n",
    "\n",
    "class PlaneItem(BaseItem):\n",
    "    type: str = \"plane\"\n",
    "    size: int\n",
    "\n",
    "\n",
    "items = {\n",
    "    \"item1\": {\"description\": \"All my friends drive a low rider\", \"type\": \"car\"},\n",
    "    \"item2\": {\n",
    "        \"description\": \"Music is my aeroplane, it's my aeroplane\",\n",
    "        \"type\": \"plane\",\n",
    "        \"size\": 5,\n",
    "    },\n",
    "}\n",
    "\n",
    "\n",
    "@app.get(\"/items/{item_id}\", response_model=Union[PlaneItem, CarItem])\n",
    "async def read_item(item_id: str):\n",
    "    return items[item_id]"
   ]
  },
  {
   "cell_type": "markdown",
   "id": "944f632e-e961-4cb2-b485-c9ae19b536fd",
   "metadata": {},
   "source": [
    "\n",
    "In this example we pass Union[PlaneItem, CarItem] as the value of the argument response_model.\n",
    "\n",
    "Because we are passing it as a value to an argument instead of putting it in a type annotation, we have to use Union even in Python 3.10.\n",
    "\n",
    "If it was in a type annotation we could have used the vertical bar, as:\n",
    "\n",
    "\n",
    "some_variable: PlaneItem | CarItem\n",
    "\n",
    "But if we put that in the assignment response_model=PlaneItem | CarItem we would get an error, because Python would try to perform an invalid operation between PlaneItem and CarItem instead of interpreting that as a type annotation.\n",
    "\n"
   ]
  },
  {
   "cell_type": "markdown",
   "id": "ea8820f8-4995-4330-a284-d19607a4bd10",
   "metadata": {},
   "source": [
    "### List of models \n"
   ]
  },
  {
   "cell_type": "code",
   "execution_count": 14,
   "id": "c39f2952-7fee-4198-888a-41962856b21d",
   "metadata": {},
   "outputs": [],
   "source": [
    "\n",
    "from fastapi import FastAPI\n",
    "from pydantic import BaseModel\n",
    "\n",
    "app = FastAPI()\n",
    "\n",
    "\n",
    "class Item(BaseModel):\n",
    "    name: str\n",
    "    description: str\n",
    "\n",
    "\n",
    "items = [\n",
    "    {\"name\": \"Foo\", \"description\": \"There comes my hero\"},\n",
    "    {\"name\": \"Red\", \"description\": \"It's my aeroplane\"},\n",
    "]\n",
    "\n",
    "\n",
    "@app.get(\"/items/\", response_model=list[Item])\n",
    "async def read_items():\n",
    "    return items"
   ]
  },
  {
   "cell_type": "code",
   "execution_count": null,
   "id": "238601d9-91be-4edb-9a90-8937404f49f6",
   "metadata": {},
   "outputs": [],
   "source": []
  },
  {
   "cell_type": "markdown",
   "id": "b16523da-3b8a-472b-9c66-2ac1e5467eba",
   "metadata": {},
   "source": [
    "### Response with arbitrary `dict`\n",
    "\n",
    "You can also declare a response using a plain arbitrary dict, declaring just the type of the keys and values, without using a Pydantic model.\n",
    "\n",
    "This is useful if you don't know the valid field/attribute names (that would be needed for a Pydantic model) beforehand."
   ]
  },
  {
   "cell_type": "code",
   "execution_count": 16,
   "id": "c7977d0a-05d7-4589-b32e-4f6cceab02c8",
   "metadata": {},
   "outputs": [],
   "source": [
    "@app.get(\"/keyword-weights/\", response_model=dict[str, float])\n",
    "async def read_keyword_weights():\n",
    "    return {\"foo\": 2.3, \"bar\": 3.4}"
   ]
  },
  {
   "cell_type": "code",
   "execution_count": null,
   "id": "524f68fc-df58-4cde-af98-5367a1456dfb",
   "metadata": {},
   "outputs": [],
   "source": []
  }
 ],
 "metadata": {
  "kernelspec": {
   "display_name": "Python 3 (ipykernel)",
   "language": "python",
   "name": "python3"
  },
  "language_info": {
   "codemirror_mode": {
    "name": "ipython",
    "version": 3
   },
   "file_extension": ".py",
   "mimetype": "text/x-python",
   "name": "python",
   "nbconvert_exporter": "python",
   "pygments_lexer": "ipython3",
   "version": "3.12.4"
  }
 },
 "nbformat": 4,
 "nbformat_minor": 5
}
