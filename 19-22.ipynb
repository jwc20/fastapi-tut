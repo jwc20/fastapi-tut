{
 "cells": [
  {
   "cell_type": "markdown",
   "id": "5abb21ba-9f3a-4a9f-aef8-4d3a8fbfb68f",
   "metadata": {},
   "source": [
    "## Status Code"
   ]
  },
  {
   "cell_type": "code",
   "execution_count": 6,
   "id": "34cb7de7-04bd-4b63-ae34-7ceb8c1be3e6",
   "metadata": {},
   "outputs": [],
   "source": [
    "from fastapi import FastAPI\n",
    "\n",
    "app = FastAPI()"
   ]
  },
  {
   "cell_type": "code",
   "execution_count": 4,
   "id": "40b5ff83-3d61-4acd-bf76-f8847718468c",
   "metadata": {},
   "outputs": [],
   "source": [
    "@app.post(\"/items/\", status_code=201)\n",
    "async def create_item(name: str):\n",
    "    return {\"name\": name}\n"
   ]
  },
  {
   "cell_type": "code",
   "execution_count": null,
   "id": "ed055404-0c22-49a5-9e01-bdb8f0b0f8d5",
   "metadata": {},
   "outputs": [],
   "source": []
  },
  {
   "cell_type": "code",
   "execution_count": 5,
   "id": "5d49d85f-af82-4658-b8b7-990358b7a457",
   "metadata": {},
   "outputs": [],
   "source": [
    "from fastapi import FastAPI, status \n",
    "\n",
    "app = FastAPI() \n",
    "\n",
    "@app.post(\"/items/\", status_code=status.HTTP_201_CREATED)\n",
    "async def create_item(name: str):\n",
    "    return {\"name\": name}"
   ]
  },
  {
   "cell_type": "code",
   "execution_count": null,
   "id": "726e7b83-cc99-4306-8c15-fcc988f561b6",
   "metadata": {},
   "outputs": [],
   "source": []
  },
  {
   "cell_type": "code",
   "execution_count": null,
   "id": "de68200e-0e3e-477d-aa9a-53c953e6938d",
   "metadata": {},
   "outputs": [],
   "source": []
  },
  {
   "cell_type": "markdown",
   "id": "c16817e4-cb5d-4d48-ba50-eeefad11d677",
   "metadata": {},
   "source": [
    "## Form Data "
   ]
  },
  {
   "cell_type": "markdown",
   "id": "365ee39a-b6ea-4aca-a2b8-710d2bde873d",
   "metadata": {},
   "source": [
    "To use forms, first install python-multipart."
   ]
  },
  {
   "cell_type": "code",
   "execution_count": 8,
   "id": "b6a468e1-0851-4a7e-9e93-c784220c1e05",
   "metadata": {},
   "outputs": [],
   "source": [
    "from typing import Annotated \n",
    "from fastapi import FastAPI, Form \n",
    "\n",
    "app = FastAPI() \n",
    "\n",
    "@app.post(\"/login/\") \n",
    "async def login(username: Annotated[str, Form()], password: Annotated[str, Form()]): \n",
    "    return {\"username\": username}\n"
   ]
  },
  {
   "cell_type": "code",
   "execution_count": null,
   "id": "fdd6a72f-a746-48ac-bfd6-5ef75d49225c",
   "metadata": {},
   "outputs": [],
   "source": []
  },
  {
   "cell_type": "markdown",
   "id": "b473bdde-9134-4d5e-96b8-5a5cf0567c56",
   "metadata": {},
   "source": [
    "## Form Models "
   ]
  },
  {
   "cell_type": "code",
   "execution_count": 11,
   "id": "ad8c8b34-03f1-4434-bc0a-560e309d154d",
   "metadata": {},
   "outputs": [],
   "source": [
    "from typing import Annotated \n",
    "from fastapi import FastAPI, Form \n",
    "\n",
    "from pydantic import BaseModel \n",
    "\n",
    "app = FastAPI() \n",
    "\n",
    "class FormData(BaseModel): \n",
    "    username: str \n",
    "    password: str \n",
    "    \n",
    "    # model_config = {\"extra\": \"forbid\"}\n",
    "\n",
    "\n",
    "@app.post(\"/login/\") \n",
    "async def login(data: Annotated[FormData, Form()]): \n",
    "    return data"
   ]
  },
  {
   "cell_type": "code",
   "execution_count": null,
   "id": "4b4d61be-e930-4a80-9f4d-004c90cf7cc3",
   "metadata": {},
   "outputs": [],
   "source": []
  }
 ],
 "metadata": {
  "kernelspec": {
   "display_name": "Python 3 (ipykernel)",
   "language": "python",
   "name": "python3"
  },
  "language_info": {
   "codemirror_mode": {
    "name": "ipython",
    "version": 3
   },
   "file_extension": ".py",
   "mimetype": "text/x-python",
   "name": "python",
   "nbconvert_exporter": "python",
   "pygments_lexer": "ipython3",
   "version": "3.12.4"
  }
 },
 "nbformat": 4,
 "nbformat_minor": 5
}
